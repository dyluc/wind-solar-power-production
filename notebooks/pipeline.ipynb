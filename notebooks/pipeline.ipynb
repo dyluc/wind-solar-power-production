{
 "cells": [
  {
   "cell_type": "markdown",
   "source": [
    "### Fetching and loading the data"
   ],
   "metadata": {
    "collapsed": false,
    "pycharm": {
     "name": "#%% md\n"
    }
   }
  },
  {
   "cell_type": "code",
   "execution_count": 29,
   "outputs": [],
   "source": [
    "import kaggle\n",
    "import pandas as pd\n",
    "from pathlib import Path\n",
    "\n",
    "def fetch_load_kaggle_dataset(dataset, fetch=False):\n",
    "    if fetch:\n",
    "        kaggle.api.authenticate()\n",
    "        kaggle.api.dataset_download_files(dataset, path='../datasets', unzip=True)\n",
    "    return pd.read_csv(Path(\"../datasets/intermittent-renewables-production-france.csv\"))\n",
    "\n",
    "electricity_production_data = fetch_load_kaggle_dataset('henriupton/wind-solar-electricity-production')"
   ],
   "metadata": {
    "collapsed": false,
    "pycharm": {
     "name": "#%%\n"
    },
    "ExecuteTime": {
     "end_time": "2023-11-08T20:03:21.347658Z",
     "start_time": "2023-11-08T20:03:20.724090Z"
    }
   }
  },
  {
   "cell_type": "markdown",
   "source": [
    "Scikit-learn does not support removing rows in a pipeline, so we should do this prior to constructing our pipeline. We will filter samples with NaN values or \"Solar\" Source."
   ],
   "metadata": {
    "collapsed": false,
    "pycharm": {
     "name": "#%% md\n"
    }
   }
  },
  {
   "cell_type": "code",
   "execution_count": 30,
   "outputs": [
    {
     "data": {
      "text/plain": "Empty DataFrame\nColumns: [Date and Hour, Date, StartHour, EndHour, Source, Production, dayOfYear, dayName, monthName]\nIndex: []",
      "text/html": "<div>\n<style scoped>\n    .dataframe tbody tr th:only-of-type {\n        vertical-align: middle;\n    }\n\n    .dataframe tbody tr th {\n        vertical-align: top;\n    }\n\n    .dataframe thead th {\n        text-align: right;\n    }\n</style>\n<table border=\"1\" class=\"dataframe\">\n  <thead>\n    <tr style=\"text-align: right;\">\n      <th></th>\n      <th>Date and Hour</th>\n      <th>Date</th>\n      <th>StartHour</th>\n      <th>EndHour</th>\n      <th>Source</th>\n      <th>Production</th>\n      <th>dayOfYear</th>\n      <th>dayName</th>\n      <th>monthName</th>\n    </tr>\n  </thead>\n  <tbody>\n  </tbody>\n</table>\n</div>"
     },
     "execution_count": 30,
     "metadata": {},
     "output_type": "execute_result"
    }
   ],
   "source": [
    "electricity_production_data = electricity_production_data.dropna()\n",
    "electricity_production_data[electricity_production_data.isnull().any(axis=1)]"
   ],
   "metadata": {
    "collapsed": false,
    "pycharm": {
     "name": "#%%\n"
    },
    "ExecuteTime": {
     "end_time": "2023-11-08T20:03:21.439427Z",
     "start_time": "2023-11-08T20:03:20.807752Z"
    }
   }
  },
  {
   "cell_type": "code",
   "execution_count": 31,
   "outputs": [],
   "source": [
    "drop_indexes = electricity_production_data[electricity_production_data[\"Source\"] == \"Solar\"].index\n",
    "electricity_production_data.drop(drop_indexes, inplace=True)"
   ],
   "metadata": {
    "collapsed": false,
    "pycharm": {
     "name": "#%%\n"
    },
    "ExecuteTime": {
     "end_time": "2023-11-08T20:03:21.439874Z",
     "start_time": "2023-11-08T20:03:20.909618Z"
    }
   }
  },
  {
   "cell_type": "markdown",
   "source": [
    "### Split the dataset, and extract the labels"
   ],
   "metadata": {
    "collapsed": false,
    "pycharm": {
     "name": "#%% md\n"
    }
   }
  },
  {
   "cell_type": "code",
   "execution_count": 32,
   "outputs": [],
   "source": [
    "from sklearn.model_selection import train_test_split\n",
    "\n",
    "strat_train_set, strat_test_set = train_test_split(electricity_production_data, test_size=0.2, stratify=electricity_production_data[\"monthName\"])\n",
    "\n",
    "electricity_production_data = strat_train_set.drop(\"Production\", axis=1)\n",
    "electricity_production_data_labels = strat_train_set[\"Production\"].copy()"
   ],
   "metadata": {
    "collapsed": false,
    "pycharm": {
     "name": "#%%\n"
    },
    "ExecuteTime": {
     "end_time": "2023-11-08T20:03:21.440340Z",
     "start_time": "2023-11-08T20:03:20.940495Z"
    }
   }
  },
  {
   "cell_type": "markdown",
   "source": [
    "### Feature transformations and transformation pipelines\n",
    "\n",
    "Involving creating pipelines to preprocess our attributes, and use feature engineering to construct new cluster similarity features.\n",
    "- Encoding cyclical attributes\n",
    "- Encoding ordinal attributes\n",
    "- Dropping redundant attributes\n",
    "- Normalizing non-cyclical attributes (min-max & standard scalers)\n",
    "- Creating new cluster similarity measures (feature engineering)"
   ],
   "metadata": {
    "collapsed": false,
    "pycharm": {
     "name": "#%% md\n"
    }
   }
  },
  {
   "cell_type": "code",
   "execution_count": 33,
   "outputs": [],
   "source": [
    "from sklearn.base import BaseEstimator, TransformerMixin\n",
    "from sklearn.cluster import KMeans\n",
    "from sklearn.metrics.pairwise import rbf_kernel\n",
    "import numpy as np\n",
    "\n",
    "def encode_cyc(X):\n",
    "    vals = {}\n",
    "    max_val = X.iloc[:, 0].max()\n",
    "    for dist_val in X.iloc[:, 0].unique():\n",
    "        vals[dist_val] = (np.sin(2 * np.pi * dist_val / max_val),\n",
    "                          np.cos(2 * np.pi * dist_val / max_val))\n",
    "\n",
    "    return pd.DataFrame([*X.iloc[:, 0].apply(lambda v: vals[v])])\n",
    "\n",
    "def encode_get_seconds(X):\n",
    "    return pd.to_timedelta(X.iloc[:, 0]).apply(lambda td: td.seconds).to_frame() \n",
    "\n",
    "def encode_get_year(X):\n",
    "    return pd.to_datetime(X.iloc[:, 0]).apply(lambda dt: dt.year).to_frame()\n",
    "\n",
    "def encode_ordinal(X):\n",
    "    return pd.to_datetime(X.iloc[:, 0]).apply(lambda dt: dt.toordinal()).to_frame()\n",
    "\n",
    "def encode_positional(X):\n",
    "    min_attr = X.iloc[:, 0].min()\n",
    "    return X.iloc[:, 0].apply(lambda j: j - min_attr + 1).to_frame()\n",
    "\n",
    "def encode_numeric_label(X, labels):\n",
    "    return X.iloc[:, 0].apply(lambda n: labels.index(n) + 1).to_frame()\n",
    "\n",
    "class ClusterSimilarityMeasure(BaseEstimator, TransformerMixin):\n",
    "    def __init__(self, n_clusters=5, gamma=1.0, random_state=42, sample_weight_label_scale=.03):\n",
    "        self.n_clusters = n_clusters\n",
    "        self.sample_weight_label_scale = sample_weight_label_scale\n",
    "        self.gamma = gamma\n",
    "        self.random_state = random_state\n",
    "        self.kmeans_ = KMeans(self.n_clusters, random_state=self.random_state)\n",
    "\n",
    "    def fit(self, X, y=None):\n",
    "        exp_scaled_labels = np.exp(y * self.sample_weight_label_scale)\n",
    "        self.kmeans_.fit(X, sample_weight=exp_scaled_labels)\n",
    "        return self\n",
    "\n",
    "    def transform(self, X):\n",
    "        return rbf_kernel(X, self.kmeans_.cluster_centers_, gamma=self.gamma)\n",
    "\n",
    "    def get_feature_names_out(self, names=None):\n",
    "        return [f\"Cluster {i} similarity\" for i in range(self.n_clusters)]\n",
    "    \n",
    "class ScalerWrapper(BaseEstimator, TransformerMixin):\n",
    "    def __init__(self, scaler):\n",
    "        self.scaler = scaler\n",
    "        \n",
    "    def fit(self, X, y=None):\n",
    "        self.scaler.fit(X)\n",
    "        return self\n",
    "    \n",
    "    def transform(self, X, y=None):\n",
    "        return self.scaler.transform(X)\n",
    "    \n",
    "    def get_feature_names_out(self, input_features=None):\n",
    "        if input_features:\n",
    "            return input_features\n",
    "        return self.feature_names_in_\n",
    "            \n"
   ],
   "metadata": {
    "collapsed": false,
    "pycharm": {
     "name": "#%%\n"
    },
    "ExecuteTime": {
     "end_time": "2023-11-08T20:03:21.440457Z",
     "start_time": "2023-11-08T20:03:20.965829Z"
    }
   }
  },
  {
   "cell_type": "code",
   "execution_count": 34,
   "outputs": [
    {
     "data": {
      "text/plain": "array([[ 0.49254807, -0.87028524,  0.35704969, ..., -1.        ,\n        -0.3097689 , -0.18808777],\n       [-0.56534467,  0.82485477,  0.04431255, ...,  0.8660254 ,\n         0.67133684,  0.6630094 ],\n       [-0.7221166 ,  0.69177136,  0.03231239, ...,  0.8660254 ,\n        -0.3097689 ,  0.07210031],\n       ...,\n       [ 0.35275209, -0.93571682,  0.2696622 , ..., -1.        ,\n        -1.29087465, -0.7476489 ],\n       [ 0.77876393,  0.6273171 ,  0.64936495, ...,  0.5       ,\n         1.65244259,  0.79780564],\n       [-0.33663728,  0.9416344 ,  0.07015243, ...,  1.        ,\n         0.67133684,  0.68652038]])"
     },
     "execution_count": 34,
     "metadata": {},
     "output_type": "execute_result"
    }
   ],
   "source": [
    "from sklearn.compose import ColumnTransformer\n",
    "from sklearn.preprocessing import MinMaxScaler, StandardScaler, FunctionTransformer\n",
    "from sklearn.pipeline import make_pipeline\n",
    "from sklearn import set_config\n",
    "\n",
    "set_config(display=\"diagram\")\n",
    "\n",
    "# column name funcs\n",
    "def sin_cos_column_names(t, fn):\n",
    "    return \\\n",
    "        [suffix_column_name(fn[0], \"_sin\"),\n",
    "         suffix_column_name(fn[0], \"_cos\")]\n",
    "\n",
    "def suffix_column_name(cn, suffix):\n",
    "    return cn + suffix\n",
    "\n",
    "# Generic cyclical and positional transformers\n",
    "cyc_transformer = FunctionTransformer(encode_cyc, feature_names_out=sin_cos_column_names)\n",
    "pos_transformer = FunctionTransformer(\n",
    "    encode_positional,\n",
    "    feature_names_out=lambda t, fn: [suffix_column_name(fn[0], \"_pos\")]\n",
    ")\n",
    "\n",
    "# Cluster similarity measure - sample weights set inside estimator fit method\n",
    "cluster_simil_pipeline = make_pipeline(\n",
    "    cyc_transformer,\n",
    "    ClusterSimilarityMeasure(n_clusters=3, sample_weight_label_scale=0.03),\n",
    ")\n",
    "\n",
    "# dayOfYear\n",
    "day_of_year_pipeline = make_pipeline(\n",
    "    cyc_transformer\n",
    ")\n",
    "\n",
    "# StartHour\n",
    "start_hour_pipeline = make_pipeline(\n",
    "    FunctionTransformer(\n",
    "        encode_get_seconds, \n",
    "        feature_names_out=lambda t, fn: [suffix_column_name(fn[0], \"Seconds\")]\n",
    "    ),\n",
    "    cyc_transformer\n",
    ")\n",
    "\n",
    "# monthName\n",
    "months = [\"January\", \"February\", \"March\",\n",
    "          \"April\", \"May\", \"June\",\n",
    "          \"July\", \"August\", \"September\",\n",
    "          \"October\", \"November\", \"December\"]\n",
    "month_name_pipeline = make_pipeline(\n",
    "    FunctionTransformer(\n",
    "        encode_numeric_label, \n",
    "        kw_args=dict(labels=months), \n",
    "        feature_names_out=lambda t, fn: [suffix_column_name(fn[0], \"Numeric\")]\n",
    "    ),\n",
    "    cyc_transformer\n",
    ")\n",
    "\n",
    "# Year and Date\n",
    "year_pipeline = make_pipeline(\n",
    "    FunctionTransformer(\n",
    "        encode_get_year,\n",
    "        feature_names_out=lambda t, fn: [suffix_column_name(fn[0], \"Year\")]\n",
    "    ),\n",
    "    pos_transformer,\n",
    "    ScalerWrapper(StandardScaler())\n",
    ")\n",
    "\n",
    "date_pipeline = make_pipeline(\n",
    "    FunctionTransformer(\n",
    "        encode_ordinal,\n",
    "        feature_names_out=lambda t, fn: [suffix_column_name(fn[0], \"Ordinal\")]\n",
    "    ),\n",
    "    pos_transformer,\n",
    "    ScalerWrapper(MinMaxScaler(feature_range=(-1, 1)))\n",
    ")\n",
    "\n",
    "preprocessing = ColumnTransformer([\n",
    "    (\"day_of_year_pipeline\", day_of_year_pipeline, [\"dayOfYear\"]),\n",
    "    (\"day_of_year_cluster_simil_pipeline\", cluster_simil_pipeline, [\"dayOfYear\"]),\n",
    "    (\"start_hour_pipeline\", start_hour_pipeline, [\"StartHour\"]),\n",
    "    (\"month_name_pipeline\", month_name_pipeline, [\"monthName\"]),\n",
    "    (\"year_pipeline\", year_pipeline, [\"Date\"]),\n",
    "    (\"date_pipeline\", date_pipeline, [\"Date\"]),\n",
    "], remainder=\"drop\")\n",
    "\n",
    "# labels needed for calculating cluster sample weights\n",
    "electricity_production_data_prepared = (\n",
    "    preprocessing.fit_transform(electricity_production_data, electricity_production_data_labels))\n",
    "electricity_production_data_prepared"
   ],
   "metadata": {
    "collapsed": false,
    "pycharm": {
     "name": "#%%\n"
    },
    "ExecuteTime": {
     "end_time": "2023-11-08T20:03:21.995717Z",
     "start_time": "2023-11-08T20:03:21.001948Z"
    }
   }
  },
  {
   "cell_type": "code",
   "execution_count": 35,
   "outputs": [
    {
     "data": {
      "text/plain": "array(['day_of_year_pipeline__dayOfYear_sin',\n       'day_of_year_pipeline__dayOfYear_cos',\n       'day_of_year_cluster_simil_pipeline__Cluster 0 similarity',\n       'day_of_year_cluster_simil_pipeline__Cluster 1 similarity',\n       'day_of_year_cluster_simil_pipeline__Cluster 2 similarity',\n       'start_hour_pipeline__StartHourSeconds_sin',\n       'start_hour_pipeline__StartHourSeconds_cos',\n       'month_name_pipeline__monthNameNumeric_sin',\n       'month_name_pipeline__monthNameNumeric_cos',\n       'year_pipeline__DateYear_pos', 'date_pipeline__DateOrdinal_pos'],\n      dtype=object)"
     },
     "execution_count": 35,
     "metadata": {},
     "output_type": "execute_result"
    }
   ],
   "source": [
    "preprocessing.get_feature_names_out()"
   ],
   "metadata": {
    "collapsed": false,
    "pycharm": {
     "name": "#%%\n"
    },
    "ExecuteTime": {
     "end_time": "2023-11-08T20:03:22.005588Z",
     "start_time": "2023-11-08T20:03:21.996777Z"
    }
   }
  },
  {
   "cell_type": "markdown",
   "source": [
    "### Selecting, training, fine-tuning and testing models\n",
    "\n",
    "Here we can trial various models and fine tune our hyperparameters, run inferences against our model and measure performance.\n",
    "\n",
    "Candidate algorithms to test\n",
    "- LinearRegressor\n",
    "- SGDRegressor\n",
    "- DecisionTreeRegressor\n",
    "- RandomForestRegressor"
   ],
   "metadata": {
    "collapsed": false
   }
  },
  {
   "cell_type": "code",
   "execution_count": 36,
   "outputs": [
    {
     "data": {
      "text/plain": "Pipeline(steps=[('columntransformer',\n                 ColumnTransformer(transformers=[('day_of_year_pipeline',\n                                                  Pipeline(steps=[('functiontransformer',\n                                                                   FunctionTransformer(feature_names_out=<function sin_cos_column_names at 0x12a8ca4c0>,\n                                                                                       func=<function encode_cyc at 0x11fb884c0>))]),\n                                                  ['dayOfYear']),\n                                                 ('day_of_year_cluster_simil_pipeline',\n                                                  Pipeline(steps=[('functiontransformer',\n                                                                   F...\n                                                                   FunctionTransformer(feature_names_out=<function <lambda> at 0x14b6e1ca0>,\n                                                                                       func=<function encode_ordinal at 0x14b490e50>)),\n                                                                  ('functiontransformer-2',\n                                                                   FunctionTransformer(feature_names_out=<function <lambda> at 0x12aedad30>,\n                                                                                       func=<function encode_positional at 0x14b6e1040>)),\n                                                                  ('scalerwrapper',\n                                                                   ScalerWrapper(scaler=MinMaxScaler(feature_range=(-1,\n                                                                                                                    1))))]),\n                                                  ['Date'])])),\n                ('sgdregressor', SGDRegressor())])",
      "text/html": "<style>#sk-container-id-6 {color: black;background-color: white;}#sk-container-id-6 pre{padding: 0;}#sk-container-id-6 div.sk-toggleable {background-color: white;}#sk-container-id-6 label.sk-toggleable__label {cursor: pointer;display: block;width: 100%;margin-bottom: 0;padding: 0.3em;box-sizing: border-box;text-align: center;}#sk-container-id-6 label.sk-toggleable__label-arrow:before {content: \"▸\";float: left;margin-right: 0.25em;color: #696969;}#sk-container-id-6 label.sk-toggleable__label-arrow:hover:before {color: black;}#sk-container-id-6 div.sk-estimator:hover label.sk-toggleable__label-arrow:before {color: black;}#sk-container-id-6 div.sk-toggleable__content {max-height: 0;max-width: 0;overflow: hidden;text-align: left;background-color: #f0f8ff;}#sk-container-id-6 div.sk-toggleable__content pre {margin: 0.2em;color: black;border-radius: 0.25em;background-color: #f0f8ff;}#sk-container-id-6 input.sk-toggleable__control:checked~div.sk-toggleable__content {max-height: 200px;max-width: 100%;overflow: auto;}#sk-container-id-6 input.sk-toggleable__control:checked~label.sk-toggleable__label-arrow:before {content: \"▾\";}#sk-container-id-6 div.sk-estimator input.sk-toggleable__control:checked~label.sk-toggleable__label {background-color: #d4ebff;}#sk-container-id-6 div.sk-label input.sk-toggleable__control:checked~label.sk-toggleable__label {background-color: #d4ebff;}#sk-container-id-6 input.sk-hidden--visually {border: 0;clip: rect(1px 1px 1px 1px);clip: rect(1px, 1px, 1px, 1px);height: 1px;margin: -1px;overflow: hidden;padding: 0;position: absolute;width: 1px;}#sk-container-id-6 div.sk-estimator {font-family: monospace;background-color: #f0f8ff;border: 1px dotted black;border-radius: 0.25em;box-sizing: border-box;margin-bottom: 0.5em;}#sk-container-id-6 div.sk-estimator:hover {background-color: #d4ebff;}#sk-container-id-6 div.sk-parallel-item::after {content: \"\";width: 100%;border-bottom: 1px solid gray;flex-grow: 1;}#sk-container-id-6 div.sk-label:hover label.sk-toggleable__label {background-color: #d4ebff;}#sk-container-id-6 div.sk-serial::before {content: \"\";position: absolute;border-left: 1px solid gray;box-sizing: border-box;top: 0;bottom: 0;left: 50%;z-index: 0;}#sk-container-id-6 div.sk-serial {display: flex;flex-direction: column;align-items: center;background-color: white;padding-right: 0.2em;padding-left: 0.2em;position: relative;}#sk-container-id-6 div.sk-item {position: relative;z-index: 1;}#sk-container-id-6 div.sk-parallel {display: flex;align-items: stretch;justify-content: center;background-color: white;position: relative;}#sk-container-id-6 div.sk-item::before, #sk-container-id-6 div.sk-parallel-item::before {content: \"\";position: absolute;border-left: 1px solid gray;box-sizing: border-box;top: 0;bottom: 0;left: 50%;z-index: -1;}#sk-container-id-6 div.sk-parallel-item {display: flex;flex-direction: column;z-index: 1;position: relative;background-color: white;}#sk-container-id-6 div.sk-parallel-item:first-child::after {align-self: flex-end;width: 50%;}#sk-container-id-6 div.sk-parallel-item:last-child::after {align-self: flex-start;width: 50%;}#sk-container-id-6 div.sk-parallel-item:only-child::after {width: 0;}#sk-container-id-6 div.sk-dashed-wrapped {border: 1px dashed gray;margin: 0 0.4em 0.5em 0.4em;box-sizing: border-box;padding-bottom: 0.4em;background-color: white;}#sk-container-id-6 div.sk-label label {font-family: monospace;font-weight: bold;display: inline-block;line-height: 1.2em;}#sk-container-id-6 div.sk-label-container {text-align: center;}#sk-container-id-6 div.sk-container {/* jupyter's `normalize.less` sets `[hidden] { display: none; }` but bootstrap.min.css set `[hidden] { display: none !important; }` so we also need the `!important` here to be able to override the default hidden behavior on the sphinx rendered scikit-learn.org. See: https://github.com/scikit-learn/scikit-learn/issues/21755 */display: inline-block !important;position: relative;}#sk-container-id-6 div.sk-text-repr-fallback {display: none;}</style><div id=\"sk-container-id-6\" class=\"sk-top-container\"><div class=\"sk-text-repr-fallback\"><pre>Pipeline(steps=[(&#x27;columntransformer&#x27;,\n                 ColumnTransformer(transformers=[(&#x27;day_of_year_pipeline&#x27;,\n                                                  Pipeline(steps=[(&#x27;functiontransformer&#x27;,\n                                                                   FunctionTransformer(feature_names_out=&lt;function sin_cos_column_names at 0x12a8ca4c0&gt;,\n                                                                                       func=&lt;function encode_cyc at 0x11fb884c0&gt;))]),\n                                                  [&#x27;dayOfYear&#x27;]),\n                                                 (&#x27;day_of_year_cluster_simil_pipeline&#x27;,\n                                                  Pipeline(steps=[(&#x27;functiontransformer&#x27;,\n                                                                   F...\n                                                                   FunctionTransformer(feature_names_out=&lt;function &lt;lambda&gt; at 0x14b6e1ca0&gt;,\n                                                                                       func=&lt;function encode_ordinal at 0x14b490e50&gt;)),\n                                                                  (&#x27;functiontransformer-2&#x27;,\n                                                                   FunctionTransformer(feature_names_out=&lt;function &lt;lambda&gt; at 0x12aedad30&gt;,\n                                                                                       func=&lt;function encode_positional at 0x14b6e1040&gt;)),\n                                                                  (&#x27;scalerwrapper&#x27;,\n                                                                   ScalerWrapper(scaler=MinMaxScaler(feature_range=(-1,\n                                                                                                                    1))))]),\n                                                  [&#x27;Date&#x27;])])),\n                (&#x27;sgdregressor&#x27;, SGDRegressor())])</pre><b>In a Jupyter environment, please rerun this cell to show the HTML representation or trust the notebook. <br />On GitHub, the HTML representation is unable to render, please try loading this page with nbviewer.org.</b></div><div class=\"sk-container\" hidden><div class=\"sk-item sk-dashed-wrapped\"><div class=\"sk-label-container\"><div class=\"sk-label sk-toggleable\"><input class=\"sk-toggleable__control sk-hidden--visually\" id=\"sk-estimator-id-133\" type=\"checkbox\" ><label for=\"sk-estimator-id-133\" class=\"sk-toggleable__label sk-toggleable__label-arrow\">Pipeline</label><div class=\"sk-toggleable__content\"><pre>Pipeline(steps=[(&#x27;columntransformer&#x27;,\n                 ColumnTransformer(transformers=[(&#x27;day_of_year_pipeline&#x27;,\n                                                  Pipeline(steps=[(&#x27;functiontransformer&#x27;,\n                                                                   FunctionTransformer(feature_names_out=&lt;function sin_cos_column_names at 0x12a8ca4c0&gt;,\n                                                                                       func=&lt;function encode_cyc at 0x11fb884c0&gt;))]),\n                                                  [&#x27;dayOfYear&#x27;]),\n                                                 (&#x27;day_of_year_cluster_simil_pipeline&#x27;,\n                                                  Pipeline(steps=[(&#x27;functiontransformer&#x27;,\n                                                                   F...\n                                                                   FunctionTransformer(feature_names_out=&lt;function &lt;lambda&gt; at 0x14b6e1ca0&gt;,\n                                                                                       func=&lt;function encode_ordinal at 0x14b490e50&gt;)),\n                                                                  (&#x27;functiontransformer-2&#x27;,\n                                                                   FunctionTransformer(feature_names_out=&lt;function &lt;lambda&gt; at 0x12aedad30&gt;,\n                                                                                       func=&lt;function encode_positional at 0x14b6e1040&gt;)),\n                                                                  (&#x27;scalerwrapper&#x27;,\n                                                                   ScalerWrapper(scaler=MinMaxScaler(feature_range=(-1,\n                                                                                                                    1))))]),\n                                                  [&#x27;Date&#x27;])])),\n                (&#x27;sgdregressor&#x27;, SGDRegressor())])</pre></div></div></div><div class=\"sk-serial\"><div class=\"sk-item sk-dashed-wrapped\"><div class=\"sk-label-container\"><div class=\"sk-label sk-toggleable\"><input class=\"sk-toggleable__control sk-hidden--visually\" id=\"sk-estimator-id-134\" type=\"checkbox\" ><label for=\"sk-estimator-id-134\" class=\"sk-toggleable__label sk-toggleable__label-arrow\">columntransformer: ColumnTransformer</label><div class=\"sk-toggleable__content\"><pre>ColumnTransformer(transformers=[(&#x27;day_of_year_pipeline&#x27;,\n                                 Pipeline(steps=[(&#x27;functiontransformer&#x27;,\n                                                  FunctionTransformer(feature_names_out=&lt;function sin_cos_column_names at 0x12a8ca4c0&gt;,\n                                                                      func=&lt;function encode_cyc at 0x11fb884c0&gt;))]),\n                                 [&#x27;dayOfYear&#x27;]),\n                                (&#x27;day_of_year_cluster_simil_pipeline&#x27;,\n                                 Pipeline(steps=[(&#x27;functiontransformer&#x27;,\n                                                  FunctionTransformer(feature_names_out=...\n                                 Pipeline(steps=[(&#x27;functiontransformer-1&#x27;,\n                                                  FunctionTransformer(feature_names_out=&lt;function &lt;lambda&gt; at 0x14b6e1ca0&gt;,\n                                                                      func=&lt;function encode_ordinal at 0x14b490e50&gt;)),\n                                                 (&#x27;functiontransformer-2&#x27;,\n                                                  FunctionTransformer(feature_names_out=&lt;function &lt;lambda&gt; at 0x12aedad30&gt;,\n                                                                      func=&lt;function encode_positional at 0x14b6e1040&gt;)),\n                                                 (&#x27;scalerwrapper&#x27;,\n                                                  ScalerWrapper(scaler=MinMaxScaler(feature_range=(-1,\n                                                                                                   1))))]),\n                                 [&#x27;Date&#x27;])])</pre></div></div></div><div class=\"sk-parallel\"><div class=\"sk-parallel-item\"><div class=\"sk-item\"><div class=\"sk-label-container\"><div class=\"sk-label sk-toggleable\"><input class=\"sk-toggleable__control sk-hidden--visually\" id=\"sk-estimator-id-135\" type=\"checkbox\" ><label for=\"sk-estimator-id-135\" class=\"sk-toggleable__label sk-toggleable__label-arrow\">day_of_year_pipeline</label><div class=\"sk-toggleable__content\"><pre>[&#x27;dayOfYear&#x27;]</pre></div></div></div><div class=\"sk-serial\"><div class=\"sk-item\"><div class=\"sk-serial\"><div class=\"sk-item\"><div class=\"sk-estimator sk-toggleable\"><input class=\"sk-toggleable__control sk-hidden--visually\" id=\"sk-estimator-id-136\" type=\"checkbox\" ><label for=\"sk-estimator-id-136\" class=\"sk-toggleable__label sk-toggleable__label-arrow\">FunctionTransformer</label><div class=\"sk-toggleable__content\"><pre>FunctionTransformer(feature_names_out=&lt;function sin_cos_column_names at 0x12a8ca4c0&gt;,\n                    func=&lt;function encode_cyc at 0x11fb884c0&gt;)</pre></div></div></div></div></div></div></div></div><div class=\"sk-parallel-item\"><div class=\"sk-item\"><div class=\"sk-label-container\"><div class=\"sk-label sk-toggleable\"><input class=\"sk-toggleable__control sk-hidden--visually\" id=\"sk-estimator-id-137\" type=\"checkbox\" ><label for=\"sk-estimator-id-137\" class=\"sk-toggleable__label sk-toggleable__label-arrow\">day_of_year_cluster_simil_pipeline</label><div class=\"sk-toggleable__content\"><pre>[&#x27;dayOfYear&#x27;]</pre></div></div></div><div class=\"sk-serial\"><div class=\"sk-item\"><div class=\"sk-serial\"><div class=\"sk-item\"><div class=\"sk-estimator sk-toggleable\"><input class=\"sk-toggleable__control sk-hidden--visually\" id=\"sk-estimator-id-138\" type=\"checkbox\" ><label for=\"sk-estimator-id-138\" class=\"sk-toggleable__label sk-toggleable__label-arrow\">FunctionTransformer</label><div class=\"sk-toggleable__content\"><pre>FunctionTransformer(feature_names_out=&lt;function sin_cos_column_names at 0x12a8ca4c0&gt;,\n                    func=&lt;function encode_cyc at 0x11fb884c0&gt;)</pre></div></div></div><div class=\"sk-item\"><div class=\"sk-estimator sk-toggleable\"><input class=\"sk-toggleable__control sk-hidden--visually\" id=\"sk-estimator-id-139\" type=\"checkbox\" ><label for=\"sk-estimator-id-139\" class=\"sk-toggleable__label sk-toggleable__label-arrow\">ClusterSimilarityMeasure</label><div class=\"sk-toggleable__content\"><pre>ClusterSimilarityMeasure(n_clusters=3)</pre></div></div></div></div></div></div></div></div><div class=\"sk-parallel-item\"><div class=\"sk-item\"><div class=\"sk-label-container\"><div class=\"sk-label sk-toggleable\"><input class=\"sk-toggleable__control sk-hidden--visually\" id=\"sk-estimator-id-140\" type=\"checkbox\" ><label for=\"sk-estimator-id-140\" class=\"sk-toggleable__label sk-toggleable__label-arrow\">start_hour_pipeline</label><div class=\"sk-toggleable__content\"><pre>[&#x27;StartHour&#x27;]</pre></div></div></div><div class=\"sk-serial\"><div class=\"sk-item\"><div class=\"sk-serial\"><div class=\"sk-item\"><div class=\"sk-estimator sk-toggleable\"><input class=\"sk-toggleable__control sk-hidden--visually\" id=\"sk-estimator-id-141\" type=\"checkbox\" ><label for=\"sk-estimator-id-141\" class=\"sk-toggleable__label sk-toggleable__label-arrow\">FunctionTransformer</label><div class=\"sk-toggleable__content\"><pre>FunctionTransformer(feature_names_out=&lt;function &lt;lambda&gt; at 0x14b6e1940&gt;,\n                    func=&lt;function encode_get_seconds at 0x14b490d30&gt;)</pre></div></div></div><div class=\"sk-item\"><div class=\"sk-estimator sk-toggleable\"><input class=\"sk-toggleable__control sk-hidden--visually\" id=\"sk-estimator-id-142\" type=\"checkbox\" ><label for=\"sk-estimator-id-142\" class=\"sk-toggleable__label sk-toggleable__label-arrow\">FunctionTransformer</label><div class=\"sk-toggleable__content\"><pre>FunctionTransformer(feature_names_out=&lt;function sin_cos_column_names at 0x12a8ca4c0&gt;,\n                    func=&lt;function encode_cyc at 0x11fb884c0&gt;)</pre></div></div></div></div></div></div></div></div><div class=\"sk-parallel-item\"><div class=\"sk-item\"><div class=\"sk-label-container\"><div class=\"sk-label sk-toggleable\"><input class=\"sk-toggleable__control sk-hidden--visually\" id=\"sk-estimator-id-143\" type=\"checkbox\" ><label for=\"sk-estimator-id-143\" class=\"sk-toggleable__label sk-toggleable__label-arrow\">month_name_pipeline</label><div class=\"sk-toggleable__content\"><pre>[&#x27;monthName&#x27;]</pre></div></div></div><div class=\"sk-serial\"><div class=\"sk-item\"><div class=\"sk-serial\"><div class=\"sk-item\"><div class=\"sk-estimator sk-toggleable\"><input class=\"sk-toggleable__control sk-hidden--visually\" id=\"sk-estimator-id-144\" type=\"checkbox\" ><label for=\"sk-estimator-id-144\" class=\"sk-toggleable__label sk-toggleable__label-arrow\">FunctionTransformer</label><div class=\"sk-toggleable__content\"><pre>FunctionTransformer(feature_names_out=&lt;function &lt;lambda&gt; at 0x14b6e19d0&gt;,\n                    func=&lt;function encode_numeric_label at 0x14b6e10d0&gt;,\n                    kw_args={&#x27;labels&#x27;: [&#x27;January&#x27;, &#x27;February&#x27;, &#x27;March&#x27;, &#x27;April&#x27;,\n                                        &#x27;May&#x27;, &#x27;June&#x27;, &#x27;July&#x27;, &#x27;August&#x27;,\n                                        &#x27;September&#x27;, &#x27;October&#x27;, &#x27;November&#x27;,\n                                        &#x27;December&#x27;]})</pre></div></div></div><div class=\"sk-item\"><div class=\"sk-estimator sk-toggleable\"><input class=\"sk-toggleable__control sk-hidden--visually\" id=\"sk-estimator-id-145\" type=\"checkbox\" ><label for=\"sk-estimator-id-145\" class=\"sk-toggleable__label sk-toggleable__label-arrow\">FunctionTransformer</label><div class=\"sk-toggleable__content\"><pre>FunctionTransformer(feature_names_out=&lt;function sin_cos_column_names at 0x12a8ca4c0&gt;,\n                    func=&lt;function encode_cyc at 0x11fb884c0&gt;)</pre></div></div></div></div></div></div></div></div><div class=\"sk-parallel-item\"><div class=\"sk-item\"><div class=\"sk-label-container\"><div class=\"sk-label sk-toggleable\"><input class=\"sk-toggleable__control sk-hidden--visually\" id=\"sk-estimator-id-146\" type=\"checkbox\" ><label for=\"sk-estimator-id-146\" class=\"sk-toggleable__label sk-toggleable__label-arrow\">year_pipeline</label><div class=\"sk-toggleable__content\"><pre>[&#x27;Date&#x27;]</pre></div></div></div><div class=\"sk-serial\"><div class=\"sk-item\"><div class=\"sk-serial\"><div class=\"sk-item\"><div class=\"sk-estimator sk-toggleable\"><input class=\"sk-toggleable__control sk-hidden--visually\" id=\"sk-estimator-id-147\" type=\"checkbox\" ><label for=\"sk-estimator-id-147\" class=\"sk-toggleable__label sk-toggleable__label-arrow\">FunctionTransformer</label><div class=\"sk-toggleable__content\"><pre>FunctionTransformer(feature_names_out=&lt;function &lt;lambda&gt; at 0x14b6e1a60&gt;,\n                    func=&lt;function encode_get_year at 0x14b490dc0&gt;)</pre></div></div></div><div class=\"sk-item\"><div class=\"sk-estimator sk-toggleable\"><input class=\"sk-toggleable__control sk-hidden--visually\" id=\"sk-estimator-id-148\" type=\"checkbox\" ><label for=\"sk-estimator-id-148\" class=\"sk-toggleable__label sk-toggleable__label-arrow\">FunctionTransformer</label><div class=\"sk-toggleable__content\"><pre>FunctionTransformer(feature_names_out=&lt;function &lt;lambda&gt; at 0x12aedad30&gt;,\n                    func=&lt;function encode_positional at 0x14b6e1040&gt;)</pre></div></div></div><div class=\"sk-item sk-dashed-wrapped\"><div class=\"sk-label-container\"><div class=\"sk-label sk-toggleable\"><input class=\"sk-toggleable__control sk-hidden--visually\" id=\"sk-estimator-id-149\" type=\"checkbox\" ><label for=\"sk-estimator-id-149\" class=\"sk-toggleable__label sk-toggleable__label-arrow\">scalerwrapper: ScalerWrapper</label><div class=\"sk-toggleable__content\"><pre>ScalerWrapper(scaler=StandardScaler())</pre></div></div></div><div class=\"sk-parallel\"><div class=\"sk-parallel-item\"><div class=\"sk-item\"><div class=\"sk-label-container\"><div class=\"sk-label sk-toggleable\"><input class=\"sk-toggleable__control sk-hidden--visually\" id=\"sk-estimator-id-150\" type=\"checkbox\" ><label for=\"sk-estimator-id-150\" class=\"sk-toggleable__label sk-toggleable__label-arrow\">scaler: StandardScaler</label><div class=\"sk-toggleable__content\"><pre>StandardScaler()</pre></div></div></div><div class=\"sk-serial\"><div class=\"sk-item\"><div class=\"sk-estimator sk-toggleable\"><input class=\"sk-toggleable__control sk-hidden--visually\" id=\"sk-estimator-id-151\" type=\"checkbox\" ><label for=\"sk-estimator-id-151\" class=\"sk-toggleable__label sk-toggleable__label-arrow\">StandardScaler</label><div class=\"sk-toggleable__content\"><pre>StandardScaler()</pre></div></div></div></div></div></div></div></div></div></div></div></div></div><div class=\"sk-parallel-item\"><div class=\"sk-item\"><div class=\"sk-label-container\"><div class=\"sk-label sk-toggleable\"><input class=\"sk-toggleable__control sk-hidden--visually\" id=\"sk-estimator-id-152\" type=\"checkbox\" ><label for=\"sk-estimator-id-152\" class=\"sk-toggleable__label sk-toggleable__label-arrow\">date_pipeline</label><div class=\"sk-toggleable__content\"><pre>[&#x27;Date&#x27;]</pre></div></div></div><div class=\"sk-serial\"><div class=\"sk-item\"><div class=\"sk-serial\"><div class=\"sk-item\"><div class=\"sk-estimator sk-toggleable\"><input class=\"sk-toggleable__control sk-hidden--visually\" id=\"sk-estimator-id-153\" type=\"checkbox\" ><label for=\"sk-estimator-id-153\" class=\"sk-toggleable__label sk-toggleable__label-arrow\">FunctionTransformer</label><div class=\"sk-toggleable__content\"><pre>FunctionTransformer(feature_names_out=&lt;function &lt;lambda&gt; at 0x14b6e1ca0&gt;,\n                    func=&lt;function encode_ordinal at 0x14b490e50&gt;)</pre></div></div></div><div class=\"sk-item\"><div class=\"sk-estimator sk-toggleable\"><input class=\"sk-toggleable__control sk-hidden--visually\" id=\"sk-estimator-id-154\" type=\"checkbox\" ><label for=\"sk-estimator-id-154\" class=\"sk-toggleable__label sk-toggleable__label-arrow\">FunctionTransformer</label><div class=\"sk-toggleable__content\"><pre>FunctionTransformer(feature_names_out=&lt;function &lt;lambda&gt; at 0x12aedad30&gt;,\n                    func=&lt;function encode_positional at 0x14b6e1040&gt;)</pre></div></div></div><div class=\"sk-item sk-dashed-wrapped\"><div class=\"sk-label-container\"><div class=\"sk-label sk-toggleable\"><input class=\"sk-toggleable__control sk-hidden--visually\" id=\"sk-estimator-id-155\" type=\"checkbox\" ><label for=\"sk-estimator-id-155\" class=\"sk-toggleable__label sk-toggleable__label-arrow\">scalerwrapper: ScalerWrapper</label><div class=\"sk-toggleable__content\"><pre>ScalerWrapper(scaler=MinMaxScaler(feature_range=(-1, 1)))</pre></div></div></div><div class=\"sk-parallel\"><div class=\"sk-parallel-item\"><div class=\"sk-item\"><div class=\"sk-label-container\"><div class=\"sk-label sk-toggleable\"><input class=\"sk-toggleable__control sk-hidden--visually\" id=\"sk-estimator-id-156\" type=\"checkbox\" ><label for=\"sk-estimator-id-156\" class=\"sk-toggleable__label sk-toggleable__label-arrow\">scaler: MinMaxScaler</label><div class=\"sk-toggleable__content\"><pre>MinMaxScaler(feature_range=(-1, 1))</pre></div></div></div><div class=\"sk-serial\"><div class=\"sk-item\"><div class=\"sk-estimator sk-toggleable\"><input class=\"sk-toggleable__control sk-hidden--visually\" id=\"sk-estimator-id-157\" type=\"checkbox\" ><label for=\"sk-estimator-id-157\" class=\"sk-toggleable__label sk-toggleable__label-arrow\">MinMaxScaler</label><div class=\"sk-toggleable__content\"><pre>MinMaxScaler(feature_range=(-1, 1))</pre></div></div></div></div></div></div></div></div></div></div></div></div></div></div></div><div class=\"sk-item\"><div class=\"sk-estimator sk-toggleable\"><input class=\"sk-toggleable__control sk-hidden--visually\" id=\"sk-estimator-id-158\" type=\"checkbox\" ><label for=\"sk-estimator-id-158\" class=\"sk-toggleable__label sk-toggleable__label-arrow\">SGDRegressor</label><div class=\"sk-toggleable__content\"><pre>SGDRegressor()</pre></div></div></div></div></div></div></div>"
     },
     "execution_count": 36,
     "metadata": {},
     "output_type": "execute_result"
    }
   ],
   "source": [
    "from sklearn.linear_model import LinearRegression, SGDRegressor\n",
    "\n",
    "lin_reg = make_pipeline(preprocessing, LinearRegression())\n",
    "sgd_reg = make_pipeline(preprocessing, SGDRegressor())\n",
    "lin_reg.fit(electricity_production_data, electricity_production_data_labels)\n",
    "sgd_reg.fit(electricity_production_data, electricity_production_data_labels)"
   ],
   "metadata": {
    "collapsed": false,
    "ExecuteTime": {
     "end_time": "2023-11-08T20:03:23.667088Z",
     "start_time": "2023-11-08T20:03:22.003538Z"
    }
   }
  },
  {
   "cell_type": "code",
   "execution_count": 37,
   "outputs": [
    {
     "data": {
      "text/plain": "array([3430.50393614, 6114.52979121, 5330.98789154, 3518.54982181,\n       4831.30445289, 6763.12529028, 4380.10531945, 5888.92482498,\n       3334.7748963 , 3525.26007167])"
     },
     "execution_count": 37,
     "metadata": {},
     "output_type": "execute_result"
    }
   ],
   "source": [
    "electricity_production_data_predictions = sgd_reg.predict(electricity_production_data)\n",
    "electricity_production_data_predictions[:10]"
   ],
   "metadata": {
    "collapsed": false,
    "ExecuteTime": {
     "end_time": "2023-11-08T20:03:23.992360Z",
     "start_time": "2023-11-08T20:03:23.665950Z"
    }
   }
  },
  {
   "cell_type": "code",
   "execution_count": 38,
   "outputs": [
    {
     "name": "stdout",
     "output_type": "stream",
     "text": [
      "91.3%, -2.2%, 72.5%, 989.3%, -37.1%, 14.3%, 153.2%, 115.1%, -60.4%, 36.1%\n"
     ]
    }
   ],
   "source": [
    "# error ratios between predicted values and labrls\n",
    "error_ratios = electricity_production_data_predictions[:10] / electricity_production_data_labels.iloc[:10].values - 1\n",
    "print(\", \".join([f\"{100 * ratio:.1f}%\" for ratio in error_ratios]))"
   ],
   "metadata": {
    "collapsed": false,
    "ExecuteTime": {
     "end_time": "2023-11-08T20:03:24.059101Z",
     "start_time": "2023-11-08T20:03:24.046848Z"
    }
   }
  },
  {
   "cell_type": "code",
   "execution_count": 39,
   "outputs": [
    {
     "data": {
      "text/plain": "3162.6093990860277"
     },
     "execution_count": 39,
     "metadata": {},
     "output_type": "execute_result"
    }
   ],
   "source": [
    "from sklearn.metrics import mean_squared_error\n",
    "\n",
    "# calculate root mean squared error of the model on entire training set\n",
    "lin_mse = mean_squared_error(electricity_production_data_labels, electricity_production_data_predictions, squared=False)\n",
    "lin_mse"
   ],
   "metadata": {
    "collapsed": false,
    "ExecuteTime": {
     "end_time": "2023-11-08T20:03:24.064612Z",
     "start_time": "2023-11-08T20:03:24.055436Z"
    }
   }
  },
  {
   "cell_type": "markdown",
   "source": [
    "The above shows a typical prediction error of ~3136 MWh. Let's test with other regressors to observe difference in the mean squared error."
   ],
   "metadata": {
    "collapsed": false
   }
  },
  {
   "cell_type": "code",
   "execution_count": 40,
   "outputs": [
    {
     "data": {
      "text/plain": "Pipeline(steps=[('columntransformer',\n                 ColumnTransformer(transformers=[('day_of_year_pipeline',\n                                                  Pipeline(steps=[('functiontransformer',\n                                                                   FunctionTransformer(feature_names_out=<function sin_cos_column_names at 0x12a8ca4c0>,\n                                                                                       func=<function encode_cyc at 0x11fb884c0>))]),\n                                                  ['dayOfYear']),\n                                                 ('day_of_year_cluster_simil_pipeline',\n                                                  Pipeline(steps=[('functiontransformer',\n                                                                   F...\n                                                                   FunctionTransformer(feature_names_out=<function <lambda> at 0x14b6e1ca0>,\n                                                                                       func=<function encode_ordinal at 0x14b490e50>)),\n                                                                  ('functiontransformer-2',\n                                                                   FunctionTransformer(feature_names_out=<function <lambda> at 0x12aedad30>,\n                                                                                       func=<function encode_positional at 0x14b6e1040>)),\n                                                                  ('scalerwrapper',\n                                                                   ScalerWrapper(scaler=MinMaxScaler(feature_range=(-1,\n                                                                                                                    1))))]),\n                                                  ['Date'])])),\n                ('decisiontreeregressor',\n                 DecisionTreeRegressor(random_state=42))])",
      "text/html": "<style>#sk-container-id-7 {color: black;background-color: white;}#sk-container-id-7 pre{padding: 0;}#sk-container-id-7 div.sk-toggleable {background-color: white;}#sk-container-id-7 label.sk-toggleable__label {cursor: pointer;display: block;width: 100%;margin-bottom: 0;padding: 0.3em;box-sizing: border-box;text-align: center;}#sk-container-id-7 label.sk-toggleable__label-arrow:before {content: \"▸\";float: left;margin-right: 0.25em;color: #696969;}#sk-container-id-7 label.sk-toggleable__label-arrow:hover:before {color: black;}#sk-container-id-7 div.sk-estimator:hover label.sk-toggleable__label-arrow:before {color: black;}#sk-container-id-7 div.sk-toggleable__content {max-height: 0;max-width: 0;overflow: hidden;text-align: left;background-color: #f0f8ff;}#sk-container-id-7 div.sk-toggleable__content pre {margin: 0.2em;color: black;border-radius: 0.25em;background-color: #f0f8ff;}#sk-container-id-7 input.sk-toggleable__control:checked~div.sk-toggleable__content {max-height: 200px;max-width: 100%;overflow: auto;}#sk-container-id-7 input.sk-toggleable__control:checked~label.sk-toggleable__label-arrow:before {content: \"▾\";}#sk-container-id-7 div.sk-estimator input.sk-toggleable__control:checked~label.sk-toggleable__label {background-color: #d4ebff;}#sk-container-id-7 div.sk-label input.sk-toggleable__control:checked~label.sk-toggleable__label {background-color: #d4ebff;}#sk-container-id-7 input.sk-hidden--visually {border: 0;clip: rect(1px 1px 1px 1px);clip: rect(1px, 1px, 1px, 1px);height: 1px;margin: -1px;overflow: hidden;padding: 0;position: absolute;width: 1px;}#sk-container-id-7 div.sk-estimator {font-family: monospace;background-color: #f0f8ff;border: 1px dotted black;border-radius: 0.25em;box-sizing: border-box;margin-bottom: 0.5em;}#sk-container-id-7 div.sk-estimator:hover {background-color: #d4ebff;}#sk-container-id-7 div.sk-parallel-item::after {content: \"\";width: 100%;border-bottom: 1px solid gray;flex-grow: 1;}#sk-container-id-7 div.sk-label:hover label.sk-toggleable__label {background-color: #d4ebff;}#sk-container-id-7 div.sk-serial::before {content: \"\";position: absolute;border-left: 1px solid gray;box-sizing: border-box;top: 0;bottom: 0;left: 50%;z-index: 0;}#sk-container-id-7 div.sk-serial {display: flex;flex-direction: column;align-items: center;background-color: white;padding-right: 0.2em;padding-left: 0.2em;position: relative;}#sk-container-id-7 div.sk-item {position: relative;z-index: 1;}#sk-container-id-7 div.sk-parallel {display: flex;align-items: stretch;justify-content: center;background-color: white;position: relative;}#sk-container-id-7 div.sk-item::before, #sk-container-id-7 div.sk-parallel-item::before {content: \"\";position: absolute;border-left: 1px solid gray;box-sizing: border-box;top: 0;bottom: 0;left: 50%;z-index: -1;}#sk-container-id-7 div.sk-parallel-item {display: flex;flex-direction: column;z-index: 1;position: relative;background-color: white;}#sk-container-id-7 div.sk-parallel-item:first-child::after {align-self: flex-end;width: 50%;}#sk-container-id-7 div.sk-parallel-item:last-child::after {align-self: flex-start;width: 50%;}#sk-container-id-7 div.sk-parallel-item:only-child::after {width: 0;}#sk-container-id-7 div.sk-dashed-wrapped {border: 1px dashed gray;margin: 0 0.4em 0.5em 0.4em;box-sizing: border-box;padding-bottom: 0.4em;background-color: white;}#sk-container-id-7 div.sk-label label {font-family: monospace;font-weight: bold;display: inline-block;line-height: 1.2em;}#sk-container-id-7 div.sk-label-container {text-align: center;}#sk-container-id-7 div.sk-container {/* jupyter's `normalize.less` sets `[hidden] { display: none; }` but bootstrap.min.css set `[hidden] { display: none !important; }` so we also need the `!important` here to be able to override the default hidden behavior on the sphinx rendered scikit-learn.org. See: https://github.com/scikit-learn/scikit-learn/issues/21755 */display: inline-block !important;position: relative;}#sk-container-id-7 div.sk-text-repr-fallback {display: none;}</style><div id=\"sk-container-id-7\" class=\"sk-top-container\"><div class=\"sk-text-repr-fallback\"><pre>Pipeline(steps=[(&#x27;columntransformer&#x27;,\n                 ColumnTransformer(transformers=[(&#x27;day_of_year_pipeline&#x27;,\n                                                  Pipeline(steps=[(&#x27;functiontransformer&#x27;,\n                                                                   FunctionTransformer(feature_names_out=&lt;function sin_cos_column_names at 0x12a8ca4c0&gt;,\n                                                                                       func=&lt;function encode_cyc at 0x11fb884c0&gt;))]),\n                                                  [&#x27;dayOfYear&#x27;]),\n                                                 (&#x27;day_of_year_cluster_simil_pipeline&#x27;,\n                                                  Pipeline(steps=[(&#x27;functiontransformer&#x27;,\n                                                                   F...\n                                                                   FunctionTransformer(feature_names_out=&lt;function &lt;lambda&gt; at 0x14b6e1ca0&gt;,\n                                                                                       func=&lt;function encode_ordinal at 0x14b490e50&gt;)),\n                                                                  (&#x27;functiontransformer-2&#x27;,\n                                                                   FunctionTransformer(feature_names_out=&lt;function &lt;lambda&gt; at 0x12aedad30&gt;,\n                                                                                       func=&lt;function encode_positional at 0x14b6e1040&gt;)),\n                                                                  (&#x27;scalerwrapper&#x27;,\n                                                                   ScalerWrapper(scaler=MinMaxScaler(feature_range=(-1,\n                                                                                                                    1))))]),\n                                                  [&#x27;Date&#x27;])])),\n                (&#x27;decisiontreeregressor&#x27;,\n                 DecisionTreeRegressor(random_state=42))])</pre><b>In a Jupyter environment, please rerun this cell to show the HTML representation or trust the notebook. <br />On GitHub, the HTML representation is unable to render, please try loading this page with nbviewer.org.</b></div><div class=\"sk-container\" hidden><div class=\"sk-item sk-dashed-wrapped\"><div class=\"sk-label-container\"><div class=\"sk-label sk-toggleable\"><input class=\"sk-toggleable__control sk-hidden--visually\" id=\"sk-estimator-id-159\" type=\"checkbox\" ><label for=\"sk-estimator-id-159\" class=\"sk-toggleable__label sk-toggleable__label-arrow\">Pipeline</label><div class=\"sk-toggleable__content\"><pre>Pipeline(steps=[(&#x27;columntransformer&#x27;,\n                 ColumnTransformer(transformers=[(&#x27;day_of_year_pipeline&#x27;,\n                                                  Pipeline(steps=[(&#x27;functiontransformer&#x27;,\n                                                                   FunctionTransformer(feature_names_out=&lt;function sin_cos_column_names at 0x12a8ca4c0&gt;,\n                                                                                       func=&lt;function encode_cyc at 0x11fb884c0&gt;))]),\n                                                  [&#x27;dayOfYear&#x27;]),\n                                                 (&#x27;day_of_year_cluster_simil_pipeline&#x27;,\n                                                  Pipeline(steps=[(&#x27;functiontransformer&#x27;,\n                                                                   F...\n                                                                   FunctionTransformer(feature_names_out=&lt;function &lt;lambda&gt; at 0x14b6e1ca0&gt;,\n                                                                                       func=&lt;function encode_ordinal at 0x14b490e50&gt;)),\n                                                                  (&#x27;functiontransformer-2&#x27;,\n                                                                   FunctionTransformer(feature_names_out=&lt;function &lt;lambda&gt; at 0x12aedad30&gt;,\n                                                                                       func=&lt;function encode_positional at 0x14b6e1040&gt;)),\n                                                                  (&#x27;scalerwrapper&#x27;,\n                                                                   ScalerWrapper(scaler=MinMaxScaler(feature_range=(-1,\n                                                                                                                    1))))]),\n                                                  [&#x27;Date&#x27;])])),\n                (&#x27;decisiontreeregressor&#x27;,\n                 DecisionTreeRegressor(random_state=42))])</pre></div></div></div><div class=\"sk-serial\"><div class=\"sk-item sk-dashed-wrapped\"><div class=\"sk-label-container\"><div class=\"sk-label sk-toggleable\"><input class=\"sk-toggleable__control sk-hidden--visually\" id=\"sk-estimator-id-160\" type=\"checkbox\" ><label for=\"sk-estimator-id-160\" class=\"sk-toggleable__label sk-toggleable__label-arrow\">columntransformer: ColumnTransformer</label><div class=\"sk-toggleable__content\"><pre>ColumnTransformer(transformers=[(&#x27;day_of_year_pipeline&#x27;,\n                                 Pipeline(steps=[(&#x27;functiontransformer&#x27;,\n                                                  FunctionTransformer(feature_names_out=&lt;function sin_cos_column_names at 0x12a8ca4c0&gt;,\n                                                                      func=&lt;function encode_cyc at 0x11fb884c0&gt;))]),\n                                 [&#x27;dayOfYear&#x27;]),\n                                (&#x27;day_of_year_cluster_simil_pipeline&#x27;,\n                                 Pipeline(steps=[(&#x27;functiontransformer&#x27;,\n                                                  FunctionTransformer(feature_names_out=...\n                                 Pipeline(steps=[(&#x27;functiontransformer-1&#x27;,\n                                                  FunctionTransformer(feature_names_out=&lt;function &lt;lambda&gt; at 0x14b6e1ca0&gt;,\n                                                                      func=&lt;function encode_ordinal at 0x14b490e50&gt;)),\n                                                 (&#x27;functiontransformer-2&#x27;,\n                                                  FunctionTransformer(feature_names_out=&lt;function &lt;lambda&gt; at 0x12aedad30&gt;,\n                                                                      func=&lt;function encode_positional at 0x14b6e1040&gt;)),\n                                                 (&#x27;scalerwrapper&#x27;,\n                                                  ScalerWrapper(scaler=MinMaxScaler(feature_range=(-1,\n                                                                                                   1))))]),\n                                 [&#x27;Date&#x27;])])</pre></div></div></div><div class=\"sk-parallel\"><div class=\"sk-parallel-item\"><div class=\"sk-item\"><div class=\"sk-label-container\"><div class=\"sk-label sk-toggleable\"><input class=\"sk-toggleable__control sk-hidden--visually\" id=\"sk-estimator-id-161\" type=\"checkbox\" ><label for=\"sk-estimator-id-161\" class=\"sk-toggleable__label sk-toggleable__label-arrow\">day_of_year_pipeline</label><div class=\"sk-toggleable__content\"><pre>[&#x27;dayOfYear&#x27;]</pre></div></div></div><div class=\"sk-serial\"><div class=\"sk-item\"><div class=\"sk-serial\"><div class=\"sk-item\"><div class=\"sk-estimator sk-toggleable\"><input class=\"sk-toggleable__control sk-hidden--visually\" id=\"sk-estimator-id-162\" type=\"checkbox\" ><label for=\"sk-estimator-id-162\" class=\"sk-toggleable__label sk-toggleable__label-arrow\">FunctionTransformer</label><div class=\"sk-toggleable__content\"><pre>FunctionTransformer(feature_names_out=&lt;function sin_cos_column_names at 0x12a8ca4c0&gt;,\n                    func=&lt;function encode_cyc at 0x11fb884c0&gt;)</pre></div></div></div></div></div></div></div></div><div class=\"sk-parallel-item\"><div class=\"sk-item\"><div class=\"sk-label-container\"><div class=\"sk-label sk-toggleable\"><input class=\"sk-toggleable__control sk-hidden--visually\" id=\"sk-estimator-id-163\" type=\"checkbox\" ><label for=\"sk-estimator-id-163\" class=\"sk-toggleable__label sk-toggleable__label-arrow\">day_of_year_cluster_simil_pipeline</label><div class=\"sk-toggleable__content\"><pre>[&#x27;dayOfYear&#x27;]</pre></div></div></div><div class=\"sk-serial\"><div class=\"sk-item\"><div class=\"sk-serial\"><div class=\"sk-item\"><div class=\"sk-estimator sk-toggleable\"><input class=\"sk-toggleable__control sk-hidden--visually\" id=\"sk-estimator-id-164\" type=\"checkbox\" ><label for=\"sk-estimator-id-164\" class=\"sk-toggleable__label sk-toggleable__label-arrow\">FunctionTransformer</label><div class=\"sk-toggleable__content\"><pre>FunctionTransformer(feature_names_out=&lt;function sin_cos_column_names at 0x12a8ca4c0&gt;,\n                    func=&lt;function encode_cyc at 0x11fb884c0&gt;)</pre></div></div></div><div class=\"sk-item\"><div class=\"sk-estimator sk-toggleable\"><input class=\"sk-toggleable__control sk-hidden--visually\" id=\"sk-estimator-id-165\" type=\"checkbox\" ><label for=\"sk-estimator-id-165\" class=\"sk-toggleable__label sk-toggleable__label-arrow\">ClusterSimilarityMeasure</label><div class=\"sk-toggleable__content\"><pre>ClusterSimilarityMeasure(n_clusters=3)</pre></div></div></div></div></div></div></div></div><div class=\"sk-parallel-item\"><div class=\"sk-item\"><div class=\"sk-label-container\"><div class=\"sk-label sk-toggleable\"><input class=\"sk-toggleable__control sk-hidden--visually\" id=\"sk-estimator-id-166\" type=\"checkbox\" ><label for=\"sk-estimator-id-166\" class=\"sk-toggleable__label sk-toggleable__label-arrow\">start_hour_pipeline</label><div class=\"sk-toggleable__content\"><pre>[&#x27;StartHour&#x27;]</pre></div></div></div><div class=\"sk-serial\"><div class=\"sk-item\"><div class=\"sk-serial\"><div class=\"sk-item\"><div class=\"sk-estimator sk-toggleable\"><input class=\"sk-toggleable__control sk-hidden--visually\" id=\"sk-estimator-id-167\" type=\"checkbox\" ><label for=\"sk-estimator-id-167\" class=\"sk-toggleable__label sk-toggleable__label-arrow\">FunctionTransformer</label><div class=\"sk-toggleable__content\"><pre>FunctionTransformer(feature_names_out=&lt;function &lt;lambda&gt; at 0x14b6e1940&gt;,\n                    func=&lt;function encode_get_seconds at 0x14b490d30&gt;)</pre></div></div></div><div class=\"sk-item\"><div class=\"sk-estimator sk-toggleable\"><input class=\"sk-toggleable__control sk-hidden--visually\" id=\"sk-estimator-id-168\" type=\"checkbox\" ><label for=\"sk-estimator-id-168\" class=\"sk-toggleable__label sk-toggleable__label-arrow\">FunctionTransformer</label><div class=\"sk-toggleable__content\"><pre>FunctionTransformer(feature_names_out=&lt;function sin_cos_column_names at 0x12a8ca4c0&gt;,\n                    func=&lt;function encode_cyc at 0x11fb884c0&gt;)</pre></div></div></div></div></div></div></div></div><div class=\"sk-parallel-item\"><div class=\"sk-item\"><div class=\"sk-label-container\"><div class=\"sk-label sk-toggleable\"><input class=\"sk-toggleable__control sk-hidden--visually\" id=\"sk-estimator-id-169\" type=\"checkbox\" ><label for=\"sk-estimator-id-169\" class=\"sk-toggleable__label sk-toggleable__label-arrow\">month_name_pipeline</label><div class=\"sk-toggleable__content\"><pre>[&#x27;monthName&#x27;]</pre></div></div></div><div class=\"sk-serial\"><div class=\"sk-item\"><div class=\"sk-serial\"><div class=\"sk-item\"><div class=\"sk-estimator sk-toggleable\"><input class=\"sk-toggleable__control sk-hidden--visually\" id=\"sk-estimator-id-170\" type=\"checkbox\" ><label for=\"sk-estimator-id-170\" class=\"sk-toggleable__label sk-toggleable__label-arrow\">FunctionTransformer</label><div class=\"sk-toggleable__content\"><pre>FunctionTransformer(feature_names_out=&lt;function &lt;lambda&gt; at 0x14b6e19d0&gt;,\n                    func=&lt;function encode_numeric_label at 0x14b6e10d0&gt;,\n                    kw_args={&#x27;labels&#x27;: [&#x27;January&#x27;, &#x27;February&#x27;, &#x27;March&#x27;, &#x27;April&#x27;,\n                                        &#x27;May&#x27;, &#x27;June&#x27;, &#x27;July&#x27;, &#x27;August&#x27;,\n                                        &#x27;September&#x27;, &#x27;October&#x27;, &#x27;November&#x27;,\n                                        &#x27;December&#x27;]})</pre></div></div></div><div class=\"sk-item\"><div class=\"sk-estimator sk-toggleable\"><input class=\"sk-toggleable__control sk-hidden--visually\" id=\"sk-estimator-id-171\" type=\"checkbox\" ><label for=\"sk-estimator-id-171\" class=\"sk-toggleable__label sk-toggleable__label-arrow\">FunctionTransformer</label><div class=\"sk-toggleable__content\"><pre>FunctionTransformer(feature_names_out=&lt;function sin_cos_column_names at 0x12a8ca4c0&gt;,\n                    func=&lt;function encode_cyc at 0x11fb884c0&gt;)</pre></div></div></div></div></div></div></div></div><div class=\"sk-parallel-item\"><div class=\"sk-item\"><div class=\"sk-label-container\"><div class=\"sk-label sk-toggleable\"><input class=\"sk-toggleable__control sk-hidden--visually\" id=\"sk-estimator-id-172\" type=\"checkbox\" ><label for=\"sk-estimator-id-172\" class=\"sk-toggleable__label sk-toggleable__label-arrow\">year_pipeline</label><div class=\"sk-toggleable__content\"><pre>[&#x27;Date&#x27;]</pre></div></div></div><div class=\"sk-serial\"><div class=\"sk-item\"><div class=\"sk-serial\"><div class=\"sk-item\"><div class=\"sk-estimator sk-toggleable\"><input class=\"sk-toggleable__control sk-hidden--visually\" id=\"sk-estimator-id-173\" type=\"checkbox\" ><label for=\"sk-estimator-id-173\" class=\"sk-toggleable__label sk-toggleable__label-arrow\">FunctionTransformer</label><div class=\"sk-toggleable__content\"><pre>FunctionTransformer(feature_names_out=&lt;function &lt;lambda&gt; at 0x14b6e1a60&gt;,\n                    func=&lt;function encode_get_year at 0x14b490dc0&gt;)</pre></div></div></div><div class=\"sk-item\"><div class=\"sk-estimator sk-toggleable\"><input class=\"sk-toggleable__control sk-hidden--visually\" id=\"sk-estimator-id-174\" type=\"checkbox\" ><label for=\"sk-estimator-id-174\" class=\"sk-toggleable__label sk-toggleable__label-arrow\">FunctionTransformer</label><div class=\"sk-toggleable__content\"><pre>FunctionTransformer(feature_names_out=&lt;function &lt;lambda&gt; at 0x12aedad30&gt;,\n                    func=&lt;function encode_positional at 0x14b6e1040&gt;)</pre></div></div></div><div class=\"sk-item sk-dashed-wrapped\"><div class=\"sk-label-container\"><div class=\"sk-label sk-toggleable\"><input class=\"sk-toggleable__control sk-hidden--visually\" id=\"sk-estimator-id-175\" type=\"checkbox\" ><label for=\"sk-estimator-id-175\" class=\"sk-toggleable__label sk-toggleable__label-arrow\">scalerwrapper: ScalerWrapper</label><div class=\"sk-toggleable__content\"><pre>ScalerWrapper(scaler=StandardScaler())</pre></div></div></div><div class=\"sk-parallel\"><div class=\"sk-parallel-item\"><div class=\"sk-item\"><div class=\"sk-label-container\"><div class=\"sk-label sk-toggleable\"><input class=\"sk-toggleable__control sk-hidden--visually\" id=\"sk-estimator-id-176\" type=\"checkbox\" ><label for=\"sk-estimator-id-176\" class=\"sk-toggleable__label sk-toggleable__label-arrow\">scaler: StandardScaler</label><div class=\"sk-toggleable__content\"><pre>StandardScaler()</pre></div></div></div><div class=\"sk-serial\"><div class=\"sk-item\"><div class=\"sk-estimator sk-toggleable\"><input class=\"sk-toggleable__control sk-hidden--visually\" id=\"sk-estimator-id-177\" type=\"checkbox\" ><label for=\"sk-estimator-id-177\" class=\"sk-toggleable__label sk-toggleable__label-arrow\">StandardScaler</label><div class=\"sk-toggleable__content\"><pre>StandardScaler()</pre></div></div></div></div></div></div></div></div></div></div></div></div></div><div class=\"sk-parallel-item\"><div class=\"sk-item\"><div class=\"sk-label-container\"><div class=\"sk-label sk-toggleable\"><input class=\"sk-toggleable__control sk-hidden--visually\" id=\"sk-estimator-id-178\" type=\"checkbox\" ><label for=\"sk-estimator-id-178\" class=\"sk-toggleable__label sk-toggleable__label-arrow\">date_pipeline</label><div class=\"sk-toggleable__content\"><pre>[&#x27;Date&#x27;]</pre></div></div></div><div class=\"sk-serial\"><div class=\"sk-item\"><div class=\"sk-serial\"><div class=\"sk-item\"><div class=\"sk-estimator sk-toggleable\"><input class=\"sk-toggleable__control sk-hidden--visually\" id=\"sk-estimator-id-179\" type=\"checkbox\" ><label for=\"sk-estimator-id-179\" class=\"sk-toggleable__label sk-toggleable__label-arrow\">FunctionTransformer</label><div class=\"sk-toggleable__content\"><pre>FunctionTransformer(feature_names_out=&lt;function &lt;lambda&gt; at 0x14b6e1ca0&gt;,\n                    func=&lt;function encode_ordinal at 0x14b490e50&gt;)</pre></div></div></div><div class=\"sk-item\"><div class=\"sk-estimator sk-toggleable\"><input class=\"sk-toggleable__control sk-hidden--visually\" id=\"sk-estimator-id-180\" type=\"checkbox\" ><label for=\"sk-estimator-id-180\" class=\"sk-toggleable__label sk-toggleable__label-arrow\">FunctionTransformer</label><div class=\"sk-toggleable__content\"><pre>FunctionTransformer(feature_names_out=&lt;function &lt;lambda&gt; at 0x12aedad30&gt;,\n                    func=&lt;function encode_positional at 0x14b6e1040&gt;)</pre></div></div></div><div class=\"sk-item sk-dashed-wrapped\"><div class=\"sk-label-container\"><div class=\"sk-label sk-toggleable\"><input class=\"sk-toggleable__control sk-hidden--visually\" id=\"sk-estimator-id-181\" type=\"checkbox\" ><label for=\"sk-estimator-id-181\" class=\"sk-toggleable__label sk-toggleable__label-arrow\">scalerwrapper: ScalerWrapper</label><div class=\"sk-toggleable__content\"><pre>ScalerWrapper(scaler=MinMaxScaler(feature_range=(-1, 1)))</pre></div></div></div><div class=\"sk-parallel\"><div class=\"sk-parallel-item\"><div class=\"sk-item\"><div class=\"sk-label-container\"><div class=\"sk-label sk-toggleable\"><input class=\"sk-toggleable__control sk-hidden--visually\" id=\"sk-estimator-id-182\" type=\"checkbox\" ><label for=\"sk-estimator-id-182\" class=\"sk-toggleable__label sk-toggleable__label-arrow\">scaler: MinMaxScaler</label><div class=\"sk-toggleable__content\"><pre>MinMaxScaler(feature_range=(-1, 1))</pre></div></div></div><div class=\"sk-serial\"><div class=\"sk-item\"><div class=\"sk-estimator sk-toggleable\"><input class=\"sk-toggleable__control sk-hidden--visually\" id=\"sk-estimator-id-183\" type=\"checkbox\" ><label for=\"sk-estimator-id-183\" class=\"sk-toggleable__label sk-toggleable__label-arrow\">MinMaxScaler</label><div class=\"sk-toggleable__content\"><pre>MinMaxScaler(feature_range=(-1, 1))</pre></div></div></div></div></div></div></div></div></div></div></div></div></div></div></div><div class=\"sk-item\"><div class=\"sk-estimator sk-toggleable\"><input class=\"sk-toggleable__control sk-hidden--visually\" id=\"sk-estimator-id-184\" type=\"checkbox\" ><label for=\"sk-estimator-id-184\" class=\"sk-toggleable__label sk-toggleable__label-arrow\">DecisionTreeRegressor</label><div class=\"sk-toggleable__content\"><pre>DecisionTreeRegressor(random_state=42)</pre></div></div></div></div></div></div></div>"
     },
     "execution_count": 40,
     "metadata": {},
     "output_type": "execute_result"
    }
   ],
   "source": [
    "from sklearn.tree import DecisionTreeRegressor\n",
    "\n",
    "tree_reg = make_pipeline(preprocessing, DecisionTreeRegressor(random_state=42))\n",
    "tree_reg.fit(electricity_production_data, electricity_production_data_labels)"
   ],
   "metadata": {
    "collapsed": false,
    "ExecuteTime": {
     "end_time": "2023-11-08T20:03:25.080779Z",
     "start_time": "2023-11-08T20:03:24.063210Z"
    }
   }
  },
  {
   "cell_type": "code",
   "execution_count": 41,
   "outputs": [
    {
     "data": {
      "text/plain": "391.23854235448255"
     },
     "execution_count": 41,
     "metadata": {},
     "output_type": "execute_result"
    }
   ],
   "source": [
    "electricity_production_data_predictions = tree_reg.predict(electricity_production_data)\n",
    "\n",
    "tree_rmse = mean_squared_error(electricity_production_data_labels, electricity_production_data_predictions, squared=False)\n",
    "tree_rmse"
   ],
   "metadata": {
    "collapsed": false,
    "ExecuteTime": {
     "end_time": "2023-11-08T20:03:25.362404Z",
     "start_time": "2023-11-08T20:03:25.079530Z"
    }
   }
  },
  {
   "cell_type": "markdown",
   "source": [
    "As we can see, we have a much lower RMSE for this algorithm. We can't know whether the algorithm is better suited because it can find non-linear relationships in our data, or if the model is over-fitting the data. We'll have to observe our model performance on unseen data using validation and test sets.\n",
    "\n",
    "Sklearn has a k-fold cross validation feature we can use to train and evaluate the decision tree model using 10 non-overlapping subsets of the training set called folds. The 10 iterations using 9 folds for training and a single fold for evaluation will be output in an array. \n",
    "\n",
    "Here we're using a utility function as a scoring function, rather than a cost function, so we should negate the output to find the RMSEs."
   ],
   "metadata": {
    "collapsed": false
   }
  },
  {
   "cell_type": "code",
   "execution_count": 42,
   "outputs": [
    {
     "data": {
      "text/plain": "count      10.000000\nmean     1455.685871\nstd       468.106879\nmin      1156.704261\n25%      1224.532733\n50%      1260.236954\n75%      1317.232057\nmax      2566.056433\ndtype: float64"
     },
     "execution_count": 42,
     "metadata": {},
     "output_type": "execute_result"
    }
   ],
   "source": [
    "from sklearn.model_selection import cross_val_score\n",
    "\n",
    "folds = 10\n",
    "tree_rmses = -cross_val_score(tree_reg, electricity_production_data, electricity_production_data_labels, scoring=\"neg_root_mean_squared_error\", cv=folds, error_score=\"raise\")\n",
    "pd.Series(tree_rmses).describe()"
   ],
   "metadata": {
    "collapsed": false,
    "ExecuteTime": {
     "end_time": "2023-11-08T20:03:31.118096Z",
     "start_time": "2023-11-08T20:03:25.363104Z"
    }
   }
  },
  {
   "cell_type": "markdown",
   "source": [
    "Here, our training error is low, but our validation error is a bit higher, suggesting that the model might be over-fitting. Using multiple validation sets here allows us to estimate the model performance as well as the measure of how precise the estimate is (standard deviation). This involves training the model multiple times, which sometimes isn't always feasible."
   ],
   "metadata": {
    "collapsed": false
   }
  },
  {
   "cell_type": "code",
   "execution_count": 43,
   "outputs": [
    {
     "data": {
      "text/plain": "count      10.000000\nmean     1116.034934\nstd       260.489400\nmin       945.254658\n25%       978.754766\n50%      1006.620683\n75%      1067.013652\nmax      1764.291279\ndtype: float64"
     },
     "execution_count": 43,
     "metadata": {},
     "output_type": "execute_result"
    }
   ],
   "source": [
    "from sklearn.ensemble import RandomForestRegressor\n",
    "from sklearn.pipeline import Pipeline\n",
    "\n",
    "forest_reg = Pipeline([\n",
    "    (\"preprocessing\", preprocessing),\n",
    "    (\"random_forest\", RandomForestRegressor(random_state=42, max_features=4)),\n",
    "])\n",
    "forest_rmses = -cross_val_score(forest_reg, electricity_production_data, electricity_production_data_labels, scoring=\"neg_root_mean_squared_error\", cv=folds)\n",
    "pd.Series(forest_rmses).describe()"
   ],
   "metadata": {
    "collapsed": false,
    "ExecuteTime": {
     "end_time": "2023-11-08T20:04:08.711183Z",
     "start_time": "2023-11-08T20:03:31.119618Z"
    }
   }
  },
  {
   "cell_type": "markdown",
   "source": [
    "Now we've tested a few different models, we can use the cross validation with the `GridSearchCV` class to tune our hyperparameters and find an optimal combination of parameters for the model. Note for the sample weight label scale, we will try testing a set of continuous values within a set range, with equal likeliness all values in this range might be optimal."
   ],
   "metadata": {
    "collapsed": false
   }
  },
  {
   "cell_type": "code",
   "execution_count": 44,
   "outputs": [
    {
     "data": {
      "text/plain": "GridSearchCV(cv=3,\n             estimator=Pipeline(steps=[('preprocessing',\n                                        ColumnTransformer(transformers=[('day_of_year_pipeline',\n                                                                         Pipeline(steps=[('functiontransformer',\n                                                                                          FunctionTransformer(feature_names_out=<function sin_cos_column_names at 0x12a8ca4c0>,\n                                                                                                              func=<function encode_cyc at 0x11fb884c0>))]),\n                                                                         ['dayOfYear']),\n                                                                        ('day_of_year_cluster_simil_pipeline',\n                                                                         Pipeline(steps=[...\n                                        RandomForestRegressor(max_features=4,\n                                                              random_state=42))]),\n             param_grid=[{'preprocessing__day_of_year_cluster_simil_pipeline__clustersimilaritymeasure__n_clusters': [4,\n                                                                                                                      5,\n                                                                                                                      6],\n                          'preprocessing__day_of_year_cluster_simil_pipeline__clustersimilaritymeasure__sample_weight_label_scale': [0.02,\n                                                                                                                                     0.023,\n                                                                                                                                     0.025],\n                          'random_forest__max_features': [3, 4, 5]}],\n             scoring='neg_root_mean_squared_error')",
      "text/html": "<style>#sk-container-id-8 {color: black;background-color: white;}#sk-container-id-8 pre{padding: 0;}#sk-container-id-8 div.sk-toggleable {background-color: white;}#sk-container-id-8 label.sk-toggleable__label {cursor: pointer;display: block;width: 100%;margin-bottom: 0;padding: 0.3em;box-sizing: border-box;text-align: center;}#sk-container-id-8 label.sk-toggleable__label-arrow:before {content: \"▸\";float: left;margin-right: 0.25em;color: #696969;}#sk-container-id-8 label.sk-toggleable__label-arrow:hover:before {color: black;}#sk-container-id-8 div.sk-estimator:hover label.sk-toggleable__label-arrow:before {color: black;}#sk-container-id-8 div.sk-toggleable__content {max-height: 0;max-width: 0;overflow: hidden;text-align: left;background-color: #f0f8ff;}#sk-container-id-8 div.sk-toggleable__content pre {margin: 0.2em;color: black;border-radius: 0.25em;background-color: #f0f8ff;}#sk-container-id-8 input.sk-toggleable__control:checked~div.sk-toggleable__content {max-height: 200px;max-width: 100%;overflow: auto;}#sk-container-id-8 input.sk-toggleable__control:checked~label.sk-toggleable__label-arrow:before {content: \"▾\";}#sk-container-id-8 div.sk-estimator input.sk-toggleable__control:checked~label.sk-toggleable__label {background-color: #d4ebff;}#sk-container-id-8 div.sk-label input.sk-toggleable__control:checked~label.sk-toggleable__label {background-color: #d4ebff;}#sk-container-id-8 input.sk-hidden--visually {border: 0;clip: rect(1px 1px 1px 1px);clip: rect(1px, 1px, 1px, 1px);height: 1px;margin: -1px;overflow: hidden;padding: 0;position: absolute;width: 1px;}#sk-container-id-8 div.sk-estimator {font-family: monospace;background-color: #f0f8ff;border: 1px dotted black;border-radius: 0.25em;box-sizing: border-box;margin-bottom: 0.5em;}#sk-container-id-8 div.sk-estimator:hover {background-color: #d4ebff;}#sk-container-id-8 div.sk-parallel-item::after {content: \"\";width: 100%;border-bottom: 1px solid gray;flex-grow: 1;}#sk-container-id-8 div.sk-label:hover label.sk-toggleable__label {background-color: #d4ebff;}#sk-container-id-8 div.sk-serial::before {content: \"\";position: absolute;border-left: 1px solid gray;box-sizing: border-box;top: 0;bottom: 0;left: 50%;z-index: 0;}#sk-container-id-8 div.sk-serial {display: flex;flex-direction: column;align-items: center;background-color: white;padding-right: 0.2em;padding-left: 0.2em;position: relative;}#sk-container-id-8 div.sk-item {position: relative;z-index: 1;}#sk-container-id-8 div.sk-parallel {display: flex;align-items: stretch;justify-content: center;background-color: white;position: relative;}#sk-container-id-8 div.sk-item::before, #sk-container-id-8 div.sk-parallel-item::before {content: \"\";position: absolute;border-left: 1px solid gray;box-sizing: border-box;top: 0;bottom: 0;left: 50%;z-index: -1;}#sk-container-id-8 div.sk-parallel-item {display: flex;flex-direction: column;z-index: 1;position: relative;background-color: white;}#sk-container-id-8 div.sk-parallel-item:first-child::after {align-self: flex-end;width: 50%;}#sk-container-id-8 div.sk-parallel-item:last-child::after {align-self: flex-start;width: 50%;}#sk-container-id-8 div.sk-parallel-item:only-child::after {width: 0;}#sk-container-id-8 div.sk-dashed-wrapped {border: 1px dashed gray;margin: 0 0.4em 0.5em 0.4em;box-sizing: border-box;padding-bottom: 0.4em;background-color: white;}#sk-container-id-8 div.sk-label label {font-family: monospace;font-weight: bold;display: inline-block;line-height: 1.2em;}#sk-container-id-8 div.sk-label-container {text-align: center;}#sk-container-id-8 div.sk-container {/* jupyter's `normalize.less` sets `[hidden] { display: none; }` but bootstrap.min.css set `[hidden] { display: none !important; }` so we also need the `!important` here to be able to override the default hidden behavior on the sphinx rendered scikit-learn.org. See: https://github.com/scikit-learn/scikit-learn/issues/21755 */display: inline-block !important;position: relative;}#sk-container-id-8 div.sk-text-repr-fallback {display: none;}</style><div id=\"sk-container-id-8\" class=\"sk-top-container\"><div class=\"sk-text-repr-fallback\"><pre>GridSearchCV(cv=3,\n             estimator=Pipeline(steps=[(&#x27;preprocessing&#x27;,\n                                        ColumnTransformer(transformers=[(&#x27;day_of_year_pipeline&#x27;,\n                                                                         Pipeline(steps=[(&#x27;functiontransformer&#x27;,\n                                                                                          FunctionTransformer(feature_names_out=&lt;function sin_cos_column_names at 0x12a8ca4c0&gt;,\n                                                                                                              func=&lt;function encode_cyc at 0x11fb884c0&gt;))]),\n                                                                         [&#x27;dayOfYear&#x27;]),\n                                                                        (&#x27;day_of_year_cluster_simil_pipeline&#x27;,\n                                                                         Pipeline(steps=[...\n                                        RandomForestRegressor(max_features=4,\n                                                              random_state=42))]),\n             param_grid=[{&#x27;preprocessing__day_of_year_cluster_simil_pipeline__clustersimilaritymeasure__n_clusters&#x27;: [4,\n                                                                                                                      5,\n                                                                                                                      6],\n                          &#x27;preprocessing__day_of_year_cluster_simil_pipeline__clustersimilaritymeasure__sample_weight_label_scale&#x27;: [0.02,\n                                                                                                                                     0.023,\n                                                                                                                                     0.025],\n                          &#x27;random_forest__max_features&#x27;: [3, 4, 5]}],\n             scoring=&#x27;neg_root_mean_squared_error&#x27;)</pre><b>In a Jupyter environment, please rerun this cell to show the HTML representation or trust the notebook. <br />On GitHub, the HTML representation is unable to render, please try loading this page with nbviewer.org.</b></div><div class=\"sk-container\" hidden><div class=\"sk-item sk-dashed-wrapped\"><div class=\"sk-label-container\"><div class=\"sk-label sk-toggleable\"><input class=\"sk-toggleable__control sk-hidden--visually\" id=\"sk-estimator-id-185\" type=\"checkbox\" ><label for=\"sk-estimator-id-185\" class=\"sk-toggleable__label sk-toggleable__label-arrow\">GridSearchCV</label><div class=\"sk-toggleable__content\"><pre>GridSearchCV(cv=3,\n             estimator=Pipeline(steps=[(&#x27;preprocessing&#x27;,\n                                        ColumnTransformer(transformers=[(&#x27;day_of_year_pipeline&#x27;,\n                                                                         Pipeline(steps=[(&#x27;functiontransformer&#x27;,\n                                                                                          FunctionTransformer(feature_names_out=&lt;function sin_cos_column_names at 0x12a8ca4c0&gt;,\n                                                                                                              func=&lt;function encode_cyc at 0x11fb884c0&gt;))]),\n                                                                         [&#x27;dayOfYear&#x27;]),\n                                                                        (&#x27;day_of_year_cluster_simil_pipeline&#x27;,\n                                                                         Pipeline(steps=[...\n                                        RandomForestRegressor(max_features=4,\n                                                              random_state=42))]),\n             param_grid=[{&#x27;preprocessing__day_of_year_cluster_simil_pipeline__clustersimilaritymeasure__n_clusters&#x27;: [4,\n                                                                                                                      5,\n                                                                                                                      6],\n                          &#x27;preprocessing__day_of_year_cluster_simil_pipeline__clustersimilaritymeasure__sample_weight_label_scale&#x27;: [0.02,\n                                                                                                                                     0.023,\n                                                                                                                                     0.025],\n                          &#x27;random_forest__max_features&#x27;: [3, 4, 5]}],\n             scoring=&#x27;neg_root_mean_squared_error&#x27;)</pre></div></div></div><div class=\"sk-parallel\"><div class=\"sk-parallel-item\"><div class=\"sk-item\"><div class=\"sk-label-container\"><div class=\"sk-label sk-toggleable\"><input class=\"sk-toggleable__control sk-hidden--visually\" id=\"sk-estimator-id-186\" type=\"checkbox\" ><label for=\"sk-estimator-id-186\" class=\"sk-toggleable__label sk-toggleable__label-arrow\">estimator: Pipeline</label><div class=\"sk-toggleable__content\"><pre>Pipeline(steps=[(&#x27;preprocessing&#x27;,\n                 ColumnTransformer(transformers=[(&#x27;day_of_year_pipeline&#x27;,\n                                                  Pipeline(steps=[(&#x27;functiontransformer&#x27;,\n                                                                   FunctionTransformer(feature_names_out=&lt;function sin_cos_column_names at 0x12a8ca4c0&gt;,\n                                                                                       func=&lt;function encode_cyc at 0x11fb884c0&gt;))]),\n                                                  [&#x27;dayOfYear&#x27;]),\n                                                 (&#x27;day_of_year_cluster_simil_pipeline&#x27;,\n                                                  Pipeline(steps=[(&#x27;functiontransformer&#x27;,\n                                                                   Funct...\n                                                                                       func=&lt;function encode_ordinal at 0x14b490e50&gt;)),\n                                                                  (&#x27;functiontransformer-2&#x27;,\n                                                                   FunctionTransformer(feature_names_out=&lt;function &lt;lambda&gt; at 0x12aedad30&gt;,\n                                                                                       func=&lt;function encode_positional at 0x14b6e1040&gt;)),\n                                                                  (&#x27;scalerwrapper&#x27;,\n                                                                   ScalerWrapper(scaler=MinMaxScaler(feature_range=(-1,\n                                                                                                                    1))))]),\n                                                  [&#x27;Date&#x27;])])),\n                (&#x27;random_forest&#x27;,\n                 RandomForestRegressor(max_features=4, random_state=42))])</pre></div></div></div><div class=\"sk-serial\"><div class=\"sk-item\"><div class=\"sk-serial\"><div class=\"sk-item sk-dashed-wrapped\"><div class=\"sk-label-container\"><div class=\"sk-label sk-toggleable\"><input class=\"sk-toggleable__control sk-hidden--visually\" id=\"sk-estimator-id-187\" type=\"checkbox\" ><label for=\"sk-estimator-id-187\" class=\"sk-toggleable__label sk-toggleable__label-arrow\">preprocessing: ColumnTransformer</label><div class=\"sk-toggleable__content\"><pre>ColumnTransformer(transformers=[(&#x27;day_of_year_pipeline&#x27;,\n                                 Pipeline(steps=[(&#x27;functiontransformer&#x27;,\n                                                  FunctionTransformer(feature_names_out=&lt;function sin_cos_column_names at 0x12a8ca4c0&gt;,\n                                                                      func=&lt;function encode_cyc at 0x11fb884c0&gt;))]),\n                                 [&#x27;dayOfYear&#x27;]),\n                                (&#x27;day_of_year_cluster_simil_pipeline&#x27;,\n                                 Pipeline(steps=[(&#x27;functiontransformer&#x27;,\n                                                  FunctionTransformer(feature_names_out=...\n                                 Pipeline(steps=[(&#x27;functiontransformer-1&#x27;,\n                                                  FunctionTransformer(feature_names_out=&lt;function &lt;lambda&gt; at 0x14b6e1ca0&gt;,\n                                                                      func=&lt;function encode_ordinal at 0x14b490e50&gt;)),\n                                                 (&#x27;functiontransformer-2&#x27;,\n                                                  FunctionTransformer(feature_names_out=&lt;function &lt;lambda&gt; at 0x12aedad30&gt;,\n                                                                      func=&lt;function encode_positional at 0x14b6e1040&gt;)),\n                                                 (&#x27;scalerwrapper&#x27;,\n                                                  ScalerWrapper(scaler=MinMaxScaler(feature_range=(-1,\n                                                                                                   1))))]),\n                                 [&#x27;Date&#x27;])])</pre></div></div></div><div class=\"sk-parallel\"><div class=\"sk-parallel-item\"><div class=\"sk-item\"><div class=\"sk-label-container\"><div class=\"sk-label sk-toggleable\"><input class=\"sk-toggleable__control sk-hidden--visually\" id=\"sk-estimator-id-188\" type=\"checkbox\" ><label for=\"sk-estimator-id-188\" class=\"sk-toggleable__label sk-toggleable__label-arrow\">day_of_year_pipeline</label><div class=\"sk-toggleable__content\"><pre>[&#x27;dayOfYear&#x27;]</pre></div></div></div><div class=\"sk-serial\"><div class=\"sk-item\"><div class=\"sk-serial\"><div class=\"sk-item\"><div class=\"sk-estimator sk-toggleable\"><input class=\"sk-toggleable__control sk-hidden--visually\" id=\"sk-estimator-id-189\" type=\"checkbox\" ><label for=\"sk-estimator-id-189\" class=\"sk-toggleable__label sk-toggleable__label-arrow\">FunctionTransformer</label><div class=\"sk-toggleable__content\"><pre>FunctionTransformer(feature_names_out=&lt;function sin_cos_column_names at 0x12a8ca4c0&gt;,\n                    func=&lt;function encode_cyc at 0x11fb884c0&gt;)</pre></div></div></div></div></div></div></div></div><div class=\"sk-parallel-item\"><div class=\"sk-item\"><div class=\"sk-label-container\"><div class=\"sk-label sk-toggleable\"><input class=\"sk-toggleable__control sk-hidden--visually\" id=\"sk-estimator-id-190\" type=\"checkbox\" ><label for=\"sk-estimator-id-190\" class=\"sk-toggleable__label sk-toggleable__label-arrow\">day_of_year_cluster_simil_pipeline</label><div class=\"sk-toggleable__content\"><pre>[&#x27;dayOfYear&#x27;]</pre></div></div></div><div class=\"sk-serial\"><div class=\"sk-item\"><div class=\"sk-serial\"><div class=\"sk-item\"><div class=\"sk-estimator sk-toggleable\"><input class=\"sk-toggleable__control sk-hidden--visually\" id=\"sk-estimator-id-191\" type=\"checkbox\" ><label for=\"sk-estimator-id-191\" class=\"sk-toggleable__label sk-toggleable__label-arrow\">FunctionTransformer</label><div class=\"sk-toggleable__content\"><pre>FunctionTransformer(feature_names_out=&lt;function sin_cos_column_names at 0x12a8ca4c0&gt;,\n                    func=&lt;function encode_cyc at 0x11fb884c0&gt;)</pre></div></div></div><div class=\"sk-item\"><div class=\"sk-estimator sk-toggleable\"><input class=\"sk-toggleable__control sk-hidden--visually\" id=\"sk-estimator-id-192\" type=\"checkbox\" ><label for=\"sk-estimator-id-192\" class=\"sk-toggleable__label sk-toggleable__label-arrow\">ClusterSimilarityMeasure</label><div class=\"sk-toggleable__content\"><pre>ClusterSimilarityMeasure(n_clusters=3)</pre></div></div></div></div></div></div></div></div><div class=\"sk-parallel-item\"><div class=\"sk-item\"><div class=\"sk-label-container\"><div class=\"sk-label sk-toggleable\"><input class=\"sk-toggleable__control sk-hidden--visually\" id=\"sk-estimator-id-193\" type=\"checkbox\" ><label for=\"sk-estimator-id-193\" class=\"sk-toggleable__label sk-toggleable__label-arrow\">start_hour_pipeline</label><div class=\"sk-toggleable__content\"><pre>[&#x27;StartHour&#x27;]</pre></div></div></div><div class=\"sk-serial\"><div class=\"sk-item\"><div class=\"sk-serial\"><div class=\"sk-item\"><div class=\"sk-estimator sk-toggleable\"><input class=\"sk-toggleable__control sk-hidden--visually\" id=\"sk-estimator-id-194\" type=\"checkbox\" ><label for=\"sk-estimator-id-194\" class=\"sk-toggleable__label sk-toggleable__label-arrow\">FunctionTransformer</label><div class=\"sk-toggleable__content\"><pre>FunctionTransformer(feature_names_out=&lt;function &lt;lambda&gt; at 0x14b6e1940&gt;,\n                    func=&lt;function encode_get_seconds at 0x14b490d30&gt;)</pre></div></div></div><div class=\"sk-item\"><div class=\"sk-estimator sk-toggleable\"><input class=\"sk-toggleable__control sk-hidden--visually\" id=\"sk-estimator-id-195\" type=\"checkbox\" ><label for=\"sk-estimator-id-195\" class=\"sk-toggleable__label sk-toggleable__label-arrow\">FunctionTransformer</label><div class=\"sk-toggleable__content\"><pre>FunctionTransformer(feature_names_out=&lt;function sin_cos_column_names at 0x12a8ca4c0&gt;,\n                    func=&lt;function encode_cyc at 0x11fb884c0&gt;)</pre></div></div></div></div></div></div></div></div><div class=\"sk-parallel-item\"><div class=\"sk-item\"><div class=\"sk-label-container\"><div class=\"sk-label sk-toggleable\"><input class=\"sk-toggleable__control sk-hidden--visually\" id=\"sk-estimator-id-196\" type=\"checkbox\" ><label for=\"sk-estimator-id-196\" class=\"sk-toggleable__label sk-toggleable__label-arrow\">month_name_pipeline</label><div class=\"sk-toggleable__content\"><pre>[&#x27;monthName&#x27;]</pre></div></div></div><div class=\"sk-serial\"><div class=\"sk-item\"><div class=\"sk-serial\"><div class=\"sk-item\"><div class=\"sk-estimator sk-toggleable\"><input class=\"sk-toggleable__control sk-hidden--visually\" id=\"sk-estimator-id-197\" type=\"checkbox\" ><label for=\"sk-estimator-id-197\" class=\"sk-toggleable__label sk-toggleable__label-arrow\">FunctionTransformer</label><div class=\"sk-toggleable__content\"><pre>FunctionTransformer(feature_names_out=&lt;function &lt;lambda&gt; at 0x14b6e19d0&gt;,\n                    func=&lt;function encode_numeric_label at 0x14b6e10d0&gt;,\n                    kw_args={&#x27;labels&#x27;: [&#x27;January&#x27;, &#x27;February&#x27;, &#x27;March&#x27;, &#x27;April&#x27;,\n                                        &#x27;May&#x27;, &#x27;June&#x27;, &#x27;July&#x27;, &#x27;August&#x27;,\n                                        &#x27;September&#x27;, &#x27;October&#x27;, &#x27;November&#x27;,\n                                        &#x27;December&#x27;]})</pre></div></div></div><div class=\"sk-item\"><div class=\"sk-estimator sk-toggleable\"><input class=\"sk-toggleable__control sk-hidden--visually\" id=\"sk-estimator-id-198\" type=\"checkbox\" ><label for=\"sk-estimator-id-198\" class=\"sk-toggleable__label sk-toggleable__label-arrow\">FunctionTransformer</label><div class=\"sk-toggleable__content\"><pre>FunctionTransformer(feature_names_out=&lt;function sin_cos_column_names at 0x12a8ca4c0&gt;,\n                    func=&lt;function encode_cyc at 0x11fb884c0&gt;)</pre></div></div></div></div></div></div></div></div><div class=\"sk-parallel-item\"><div class=\"sk-item\"><div class=\"sk-label-container\"><div class=\"sk-label sk-toggleable\"><input class=\"sk-toggleable__control sk-hidden--visually\" id=\"sk-estimator-id-199\" type=\"checkbox\" ><label for=\"sk-estimator-id-199\" class=\"sk-toggleable__label sk-toggleable__label-arrow\">year_pipeline</label><div class=\"sk-toggleable__content\"><pre>[&#x27;Date&#x27;]</pre></div></div></div><div class=\"sk-serial\"><div class=\"sk-item\"><div class=\"sk-serial\"><div class=\"sk-item\"><div class=\"sk-estimator sk-toggleable\"><input class=\"sk-toggleable__control sk-hidden--visually\" id=\"sk-estimator-id-200\" type=\"checkbox\" ><label for=\"sk-estimator-id-200\" class=\"sk-toggleable__label sk-toggleable__label-arrow\">FunctionTransformer</label><div class=\"sk-toggleable__content\"><pre>FunctionTransformer(feature_names_out=&lt;function &lt;lambda&gt; at 0x14b6e1a60&gt;,\n                    func=&lt;function encode_get_year at 0x14b490dc0&gt;)</pre></div></div></div><div class=\"sk-item\"><div class=\"sk-estimator sk-toggleable\"><input class=\"sk-toggleable__control sk-hidden--visually\" id=\"sk-estimator-id-201\" type=\"checkbox\" ><label for=\"sk-estimator-id-201\" class=\"sk-toggleable__label sk-toggleable__label-arrow\">FunctionTransformer</label><div class=\"sk-toggleable__content\"><pre>FunctionTransformer(feature_names_out=&lt;function &lt;lambda&gt; at 0x12aedad30&gt;,\n                    func=&lt;function encode_positional at 0x14b6e1040&gt;)</pre></div></div></div><div class=\"sk-item sk-dashed-wrapped\"><div class=\"sk-label-container\"><div class=\"sk-label sk-toggleable\"><input class=\"sk-toggleable__control sk-hidden--visually\" id=\"sk-estimator-id-202\" type=\"checkbox\" ><label for=\"sk-estimator-id-202\" class=\"sk-toggleable__label sk-toggleable__label-arrow\">scalerwrapper: ScalerWrapper</label><div class=\"sk-toggleable__content\"><pre>ScalerWrapper(scaler=StandardScaler())</pre></div></div></div><div class=\"sk-parallel\"><div class=\"sk-parallel-item\"><div class=\"sk-item\"><div class=\"sk-label-container\"><div class=\"sk-label sk-toggleable\"><input class=\"sk-toggleable__control sk-hidden--visually\" id=\"sk-estimator-id-203\" type=\"checkbox\" ><label for=\"sk-estimator-id-203\" class=\"sk-toggleable__label sk-toggleable__label-arrow\">scaler: StandardScaler</label><div class=\"sk-toggleable__content\"><pre>StandardScaler()</pre></div></div></div><div class=\"sk-serial\"><div class=\"sk-item\"><div class=\"sk-estimator sk-toggleable\"><input class=\"sk-toggleable__control sk-hidden--visually\" id=\"sk-estimator-id-204\" type=\"checkbox\" ><label for=\"sk-estimator-id-204\" class=\"sk-toggleable__label sk-toggleable__label-arrow\">StandardScaler</label><div class=\"sk-toggleable__content\"><pre>StandardScaler()</pre></div></div></div></div></div></div></div></div></div></div></div></div></div><div class=\"sk-parallel-item\"><div class=\"sk-item\"><div class=\"sk-label-container\"><div class=\"sk-label sk-toggleable\"><input class=\"sk-toggleable__control sk-hidden--visually\" id=\"sk-estimator-id-205\" type=\"checkbox\" ><label for=\"sk-estimator-id-205\" class=\"sk-toggleable__label sk-toggleable__label-arrow\">date_pipeline</label><div class=\"sk-toggleable__content\"><pre>[&#x27;Date&#x27;]</pre></div></div></div><div class=\"sk-serial\"><div class=\"sk-item\"><div class=\"sk-serial\"><div class=\"sk-item\"><div class=\"sk-estimator sk-toggleable\"><input class=\"sk-toggleable__control sk-hidden--visually\" id=\"sk-estimator-id-206\" type=\"checkbox\" ><label for=\"sk-estimator-id-206\" class=\"sk-toggleable__label sk-toggleable__label-arrow\">FunctionTransformer</label><div class=\"sk-toggleable__content\"><pre>FunctionTransformer(feature_names_out=&lt;function &lt;lambda&gt; at 0x14b6e1ca0&gt;,\n                    func=&lt;function encode_ordinal at 0x14b490e50&gt;)</pre></div></div></div><div class=\"sk-item\"><div class=\"sk-estimator sk-toggleable\"><input class=\"sk-toggleable__control sk-hidden--visually\" id=\"sk-estimator-id-207\" type=\"checkbox\" ><label for=\"sk-estimator-id-207\" class=\"sk-toggleable__label sk-toggleable__label-arrow\">FunctionTransformer</label><div class=\"sk-toggleable__content\"><pre>FunctionTransformer(feature_names_out=&lt;function &lt;lambda&gt; at 0x12aedad30&gt;,\n                    func=&lt;function encode_positional at 0x14b6e1040&gt;)</pre></div></div></div><div class=\"sk-item sk-dashed-wrapped\"><div class=\"sk-label-container\"><div class=\"sk-label sk-toggleable\"><input class=\"sk-toggleable__control sk-hidden--visually\" id=\"sk-estimator-id-208\" type=\"checkbox\" ><label for=\"sk-estimator-id-208\" class=\"sk-toggleable__label sk-toggleable__label-arrow\">scalerwrapper: ScalerWrapper</label><div class=\"sk-toggleable__content\"><pre>ScalerWrapper(scaler=MinMaxScaler(feature_range=(-1, 1)))</pre></div></div></div><div class=\"sk-parallel\"><div class=\"sk-parallel-item\"><div class=\"sk-item\"><div class=\"sk-label-container\"><div class=\"sk-label sk-toggleable\"><input class=\"sk-toggleable__control sk-hidden--visually\" id=\"sk-estimator-id-209\" type=\"checkbox\" ><label for=\"sk-estimator-id-209\" class=\"sk-toggleable__label sk-toggleable__label-arrow\">scaler: MinMaxScaler</label><div class=\"sk-toggleable__content\"><pre>MinMaxScaler(feature_range=(-1, 1))</pre></div></div></div><div class=\"sk-serial\"><div class=\"sk-item\"><div class=\"sk-estimator sk-toggleable\"><input class=\"sk-toggleable__control sk-hidden--visually\" id=\"sk-estimator-id-210\" type=\"checkbox\" ><label for=\"sk-estimator-id-210\" class=\"sk-toggleable__label sk-toggleable__label-arrow\">MinMaxScaler</label><div class=\"sk-toggleable__content\"><pre>MinMaxScaler(feature_range=(-1, 1))</pre></div></div></div></div></div></div></div></div></div></div></div></div></div></div></div><div class=\"sk-item\"><div class=\"sk-estimator sk-toggleable\"><input class=\"sk-toggleable__control sk-hidden--visually\" id=\"sk-estimator-id-211\" type=\"checkbox\" ><label for=\"sk-estimator-id-211\" class=\"sk-toggleable__label sk-toggleable__label-arrow\">RandomForestRegressor</label><div class=\"sk-toggleable__content\"><pre>RandomForestRegressor(max_features=4, random_state=42)</pre></div></div></div></div></div></div></div></div></div></div></div></div>"
     },
     "execution_count": 44,
     "metadata": {},
     "output_type": "execute_result"
    }
   ],
   "source": [
    "from sklearn.model_selection import GridSearchCV\n",
    "\n",
    "# tune preprocessing and model hyperparameters at the same time\n",
    "param_grid = [\n",
    "    {\"preprocessing__day_of_year_cluster_simil_pipeline__clustersimilaritymeasure__n_clusters\": [4, 5, 6],\n",
    "     \"preprocessing__day_of_year_cluster_simil_pipeline__clustersimilaritymeasure__sample_weight_label_scale\": [.02, .023, .025],\n",
    "     \"random_forest__max_features\": [3, 4, 5]},\n",
    "]\n",
    "\n",
    "grid_search = GridSearchCV(forest_reg, param_grid, scoring=\"neg_root_mean_squared_error\", cv=3)\n",
    "grid_search.fit(electricity_production_data, electricity_production_data_labels)"
   ],
   "metadata": {
    "collapsed": false,
    "ExecuteTime": {
     "end_time": "2023-11-08T20:08:19.088727Z",
     "start_time": "2023-11-08T20:04:08.713886Z"
    }
   }
  },
  {
   "cell_type": "code",
   "execution_count": 45,
   "outputs": [
    {
     "data": {
      "text/plain": "{'preprocessing__day_of_year_cluster_simil_pipeline__clustersimilaritymeasure__n_clusters': 6,\n 'preprocessing__day_of_year_cluster_simil_pipeline__clustersimilaritymeasure__sample_weight_label_scale': 0.025,\n 'random_forest__max_features': 4}"
     },
     "execution_count": 45,
     "metadata": {},
     "output_type": "execute_result"
    }
   ],
   "source": [
    "grid_search.best_params_"
   ],
   "metadata": {
    "collapsed": false,
    "ExecuteTime": {
     "end_time": "2023-11-08T20:08:19.093460Z",
     "start_time": "2023-11-08T20:08:19.087292Z"
    }
   }
  },
  {
   "cell_type": "code",
   "execution_count": 46,
   "outputs": [
    {
     "data": {
      "text/plain": "Pipeline(steps=[('preprocessing',\n                 ColumnTransformer(transformers=[('day_of_year_pipeline',\n                                                  Pipeline(steps=[('functiontransformer',\n                                                                   FunctionTransformer(feature_names_out=<function sin_cos_column_names at 0x12a8ca4c0>,\n                                                                                       func=<function encode_cyc at 0x11fb884c0>))]),\n                                                  ['dayOfYear']),\n                                                 ('day_of_year_cluster_simil_pipeline',\n                                                  Pipeline(steps=[('functiontransformer',\n                                                                   Funct...\n                                                                                       func=<function encode_ordinal at 0x14b490e50>)),\n                                                                  ('functiontransformer-2',\n                                                                   FunctionTransformer(feature_names_out=<function <lambda> at 0x12aedad30>,\n                                                                                       func=<function encode_positional at 0x14b6e1040>)),\n                                                                  ('scalerwrapper',\n                                                                   ScalerWrapper(scaler=MinMaxScaler(feature_range=(-1,\n                                                                                                                    1))))]),\n                                                  ['Date'])])),\n                ('random_forest',\n                 RandomForestRegressor(max_features=4, random_state=42))])",
      "text/html": "<style>#sk-container-id-9 {color: black;background-color: white;}#sk-container-id-9 pre{padding: 0;}#sk-container-id-9 div.sk-toggleable {background-color: white;}#sk-container-id-9 label.sk-toggleable__label {cursor: pointer;display: block;width: 100%;margin-bottom: 0;padding: 0.3em;box-sizing: border-box;text-align: center;}#sk-container-id-9 label.sk-toggleable__label-arrow:before {content: \"▸\";float: left;margin-right: 0.25em;color: #696969;}#sk-container-id-9 label.sk-toggleable__label-arrow:hover:before {color: black;}#sk-container-id-9 div.sk-estimator:hover label.sk-toggleable__label-arrow:before {color: black;}#sk-container-id-9 div.sk-toggleable__content {max-height: 0;max-width: 0;overflow: hidden;text-align: left;background-color: #f0f8ff;}#sk-container-id-9 div.sk-toggleable__content pre {margin: 0.2em;color: black;border-radius: 0.25em;background-color: #f0f8ff;}#sk-container-id-9 input.sk-toggleable__control:checked~div.sk-toggleable__content {max-height: 200px;max-width: 100%;overflow: auto;}#sk-container-id-9 input.sk-toggleable__control:checked~label.sk-toggleable__label-arrow:before {content: \"▾\";}#sk-container-id-9 div.sk-estimator input.sk-toggleable__control:checked~label.sk-toggleable__label {background-color: #d4ebff;}#sk-container-id-9 div.sk-label input.sk-toggleable__control:checked~label.sk-toggleable__label {background-color: #d4ebff;}#sk-container-id-9 input.sk-hidden--visually {border: 0;clip: rect(1px 1px 1px 1px);clip: rect(1px, 1px, 1px, 1px);height: 1px;margin: -1px;overflow: hidden;padding: 0;position: absolute;width: 1px;}#sk-container-id-9 div.sk-estimator {font-family: monospace;background-color: #f0f8ff;border: 1px dotted black;border-radius: 0.25em;box-sizing: border-box;margin-bottom: 0.5em;}#sk-container-id-9 div.sk-estimator:hover {background-color: #d4ebff;}#sk-container-id-9 div.sk-parallel-item::after {content: \"\";width: 100%;border-bottom: 1px solid gray;flex-grow: 1;}#sk-container-id-9 div.sk-label:hover label.sk-toggleable__label {background-color: #d4ebff;}#sk-container-id-9 div.sk-serial::before {content: \"\";position: absolute;border-left: 1px solid gray;box-sizing: border-box;top: 0;bottom: 0;left: 50%;z-index: 0;}#sk-container-id-9 div.sk-serial {display: flex;flex-direction: column;align-items: center;background-color: white;padding-right: 0.2em;padding-left: 0.2em;position: relative;}#sk-container-id-9 div.sk-item {position: relative;z-index: 1;}#sk-container-id-9 div.sk-parallel {display: flex;align-items: stretch;justify-content: center;background-color: white;position: relative;}#sk-container-id-9 div.sk-item::before, #sk-container-id-9 div.sk-parallel-item::before {content: \"\";position: absolute;border-left: 1px solid gray;box-sizing: border-box;top: 0;bottom: 0;left: 50%;z-index: -1;}#sk-container-id-9 div.sk-parallel-item {display: flex;flex-direction: column;z-index: 1;position: relative;background-color: white;}#sk-container-id-9 div.sk-parallel-item:first-child::after {align-self: flex-end;width: 50%;}#sk-container-id-9 div.sk-parallel-item:last-child::after {align-self: flex-start;width: 50%;}#sk-container-id-9 div.sk-parallel-item:only-child::after {width: 0;}#sk-container-id-9 div.sk-dashed-wrapped {border: 1px dashed gray;margin: 0 0.4em 0.5em 0.4em;box-sizing: border-box;padding-bottom: 0.4em;background-color: white;}#sk-container-id-9 div.sk-label label {font-family: monospace;font-weight: bold;display: inline-block;line-height: 1.2em;}#sk-container-id-9 div.sk-label-container {text-align: center;}#sk-container-id-9 div.sk-container {/* jupyter's `normalize.less` sets `[hidden] { display: none; }` but bootstrap.min.css set `[hidden] { display: none !important; }` so we also need the `!important` here to be able to override the default hidden behavior on the sphinx rendered scikit-learn.org. See: https://github.com/scikit-learn/scikit-learn/issues/21755 */display: inline-block !important;position: relative;}#sk-container-id-9 div.sk-text-repr-fallback {display: none;}</style><div id=\"sk-container-id-9\" class=\"sk-top-container\"><div class=\"sk-text-repr-fallback\"><pre>Pipeline(steps=[(&#x27;preprocessing&#x27;,\n                 ColumnTransformer(transformers=[(&#x27;day_of_year_pipeline&#x27;,\n                                                  Pipeline(steps=[(&#x27;functiontransformer&#x27;,\n                                                                   FunctionTransformer(feature_names_out=&lt;function sin_cos_column_names at 0x12a8ca4c0&gt;,\n                                                                                       func=&lt;function encode_cyc at 0x11fb884c0&gt;))]),\n                                                  [&#x27;dayOfYear&#x27;]),\n                                                 (&#x27;day_of_year_cluster_simil_pipeline&#x27;,\n                                                  Pipeline(steps=[(&#x27;functiontransformer&#x27;,\n                                                                   Funct...\n                                                                                       func=&lt;function encode_ordinal at 0x14b490e50&gt;)),\n                                                                  (&#x27;functiontransformer-2&#x27;,\n                                                                   FunctionTransformer(feature_names_out=&lt;function &lt;lambda&gt; at 0x12aedad30&gt;,\n                                                                                       func=&lt;function encode_positional at 0x14b6e1040&gt;)),\n                                                                  (&#x27;scalerwrapper&#x27;,\n                                                                   ScalerWrapper(scaler=MinMaxScaler(feature_range=(-1,\n                                                                                                                    1))))]),\n                                                  [&#x27;Date&#x27;])])),\n                (&#x27;random_forest&#x27;,\n                 RandomForestRegressor(max_features=4, random_state=42))])</pre><b>In a Jupyter environment, please rerun this cell to show the HTML representation or trust the notebook. <br />On GitHub, the HTML representation is unable to render, please try loading this page with nbviewer.org.</b></div><div class=\"sk-container\" hidden><div class=\"sk-item sk-dashed-wrapped\"><div class=\"sk-label-container\"><div class=\"sk-label sk-toggleable\"><input class=\"sk-toggleable__control sk-hidden--visually\" id=\"sk-estimator-id-212\" type=\"checkbox\" ><label for=\"sk-estimator-id-212\" class=\"sk-toggleable__label sk-toggleable__label-arrow\">Pipeline</label><div class=\"sk-toggleable__content\"><pre>Pipeline(steps=[(&#x27;preprocessing&#x27;,\n                 ColumnTransformer(transformers=[(&#x27;day_of_year_pipeline&#x27;,\n                                                  Pipeline(steps=[(&#x27;functiontransformer&#x27;,\n                                                                   FunctionTransformer(feature_names_out=&lt;function sin_cos_column_names at 0x12a8ca4c0&gt;,\n                                                                                       func=&lt;function encode_cyc at 0x11fb884c0&gt;))]),\n                                                  [&#x27;dayOfYear&#x27;]),\n                                                 (&#x27;day_of_year_cluster_simil_pipeline&#x27;,\n                                                  Pipeline(steps=[(&#x27;functiontransformer&#x27;,\n                                                                   Funct...\n                                                                                       func=&lt;function encode_ordinal at 0x14b490e50&gt;)),\n                                                                  (&#x27;functiontransformer-2&#x27;,\n                                                                   FunctionTransformer(feature_names_out=&lt;function &lt;lambda&gt; at 0x12aedad30&gt;,\n                                                                                       func=&lt;function encode_positional at 0x14b6e1040&gt;)),\n                                                                  (&#x27;scalerwrapper&#x27;,\n                                                                   ScalerWrapper(scaler=MinMaxScaler(feature_range=(-1,\n                                                                                                                    1))))]),\n                                                  [&#x27;Date&#x27;])])),\n                (&#x27;random_forest&#x27;,\n                 RandomForestRegressor(max_features=4, random_state=42))])</pre></div></div></div><div class=\"sk-serial\"><div class=\"sk-item sk-dashed-wrapped\"><div class=\"sk-label-container\"><div class=\"sk-label sk-toggleable\"><input class=\"sk-toggleable__control sk-hidden--visually\" id=\"sk-estimator-id-213\" type=\"checkbox\" ><label for=\"sk-estimator-id-213\" class=\"sk-toggleable__label sk-toggleable__label-arrow\">preprocessing: ColumnTransformer</label><div class=\"sk-toggleable__content\"><pre>ColumnTransformer(transformers=[(&#x27;day_of_year_pipeline&#x27;,\n                                 Pipeline(steps=[(&#x27;functiontransformer&#x27;,\n                                                  FunctionTransformer(feature_names_out=&lt;function sin_cos_column_names at 0x12a8ca4c0&gt;,\n                                                                      func=&lt;function encode_cyc at 0x11fb884c0&gt;))]),\n                                 [&#x27;dayOfYear&#x27;]),\n                                (&#x27;day_of_year_cluster_simil_pipeline&#x27;,\n                                 Pipeline(steps=[(&#x27;functiontransformer&#x27;,\n                                                  FunctionTransformer(feature_names_out=...\n                                 Pipeline(steps=[(&#x27;functiontransformer-1&#x27;,\n                                                  FunctionTransformer(feature_names_out=&lt;function &lt;lambda&gt; at 0x14b6e1ca0&gt;,\n                                                                      func=&lt;function encode_ordinal at 0x14b490e50&gt;)),\n                                                 (&#x27;functiontransformer-2&#x27;,\n                                                  FunctionTransformer(feature_names_out=&lt;function &lt;lambda&gt; at 0x12aedad30&gt;,\n                                                                      func=&lt;function encode_positional at 0x14b6e1040&gt;)),\n                                                 (&#x27;scalerwrapper&#x27;,\n                                                  ScalerWrapper(scaler=MinMaxScaler(feature_range=(-1,\n                                                                                                   1))))]),\n                                 [&#x27;Date&#x27;])])</pre></div></div></div><div class=\"sk-parallel\"><div class=\"sk-parallel-item\"><div class=\"sk-item\"><div class=\"sk-label-container\"><div class=\"sk-label sk-toggleable\"><input class=\"sk-toggleable__control sk-hidden--visually\" id=\"sk-estimator-id-214\" type=\"checkbox\" ><label for=\"sk-estimator-id-214\" class=\"sk-toggleable__label sk-toggleable__label-arrow\">day_of_year_pipeline</label><div class=\"sk-toggleable__content\"><pre>[&#x27;dayOfYear&#x27;]</pre></div></div></div><div class=\"sk-serial\"><div class=\"sk-item\"><div class=\"sk-serial\"><div class=\"sk-item\"><div class=\"sk-estimator sk-toggleable\"><input class=\"sk-toggleable__control sk-hidden--visually\" id=\"sk-estimator-id-215\" type=\"checkbox\" ><label for=\"sk-estimator-id-215\" class=\"sk-toggleable__label sk-toggleable__label-arrow\">FunctionTransformer</label><div class=\"sk-toggleable__content\"><pre>FunctionTransformer(feature_names_out=&lt;function sin_cos_column_names at 0x12a8ca4c0&gt;,\n                    func=&lt;function encode_cyc at 0x11fb884c0&gt;)</pre></div></div></div></div></div></div></div></div><div class=\"sk-parallel-item\"><div class=\"sk-item\"><div class=\"sk-label-container\"><div class=\"sk-label sk-toggleable\"><input class=\"sk-toggleable__control sk-hidden--visually\" id=\"sk-estimator-id-216\" type=\"checkbox\" ><label for=\"sk-estimator-id-216\" class=\"sk-toggleable__label sk-toggleable__label-arrow\">day_of_year_cluster_simil_pipeline</label><div class=\"sk-toggleable__content\"><pre>[&#x27;dayOfYear&#x27;]</pre></div></div></div><div class=\"sk-serial\"><div class=\"sk-item\"><div class=\"sk-serial\"><div class=\"sk-item\"><div class=\"sk-estimator sk-toggleable\"><input class=\"sk-toggleable__control sk-hidden--visually\" id=\"sk-estimator-id-217\" type=\"checkbox\" ><label for=\"sk-estimator-id-217\" class=\"sk-toggleable__label sk-toggleable__label-arrow\">FunctionTransformer</label><div class=\"sk-toggleable__content\"><pre>FunctionTransformer(feature_names_out=&lt;function sin_cos_column_names at 0x12a8ca4c0&gt;,\n                    func=&lt;function encode_cyc at 0x11fb884c0&gt;)</pre></div></div></div><div class=\"sk-item\"><div class=\"sk-estimator sk-toggleable\"><input class=\"sk-toggleable__control sk-hidden--visually\" id=\"sk-estimator-id-218\" type=\"checkbox\" ><label for=\"sk-estimator-id-218\" class=\"sk-toggleable__label sk-toggleable__label-arrow\">ClusterSimilarityMeasure</label><div class=\"sk-toggleable__content\"><pre>ClusterSimilarityMeasure(n_clusters=6, sample_weight_label_scale=0.025)</pre></div></div></div></div></div></div></div></div><div class=\"sk-parallel-item\"><div class=\"sk-item\"><div class=\"sk-label-container\"><div class=\"sk-label sk-toggleable\"><input class=\"sk-toggleable__control sk-hidden--visually\" id=\"sk-estimator-id-219\" type=\"checkbox\" ><label for=\"sk-estimator-id-219\" class=\"sk-toggleable__label sk-toggleable__label-arrow\">start_hour_pipeline</label><div class=\"sk-toggleable__content\"><pre>[&#x27;StartHour&#x27;]</pre></div></div></div><div class=\"sk-serial\"><div class=\"sk-item\"><div class=\"sk-serial\"><div class=\"sk-item\"><div class=\"sk-estimator sk-toggleable\"><input class=\"sk-toggleable__control sk-hidden--visually\" id=\"sk-estimator-id-220\" type=\"checkbox\" ><label for=\"sk-estimator-id-220\" class=\"sk-toggleable__label sk-toggleable__label-arrow\">FunctionTransformer</label><div class=\"sk-toggleable__content\"><pre>FunctionTransformer(feature_names_out=&lt;function &lt;lambda&gt; at 0x14b6e1940&gt;,\n                    func=&lt;function encode_get_seconds at 0x14b490d30&gt;)</pre></div></div></div><div class=\"sk-item\"><div class=\"sk-estimator sk-toggleable\"><input class=\"sk-toggleable__control sk-hidden--visually\" id=\"sk-estimator-id-221\" type=\"checkbox\" ><label for=\"sk-estimator-id-221\" class=\"sk-toggleable__label sk-toggleable__label-arrow\">FunctionTransformer</label><div class=\"sk-toggleable__content\"><pre>FunctionTransformer(feature_names_out=&lt;function sin_cos_column_names at 0x12a8ca4c0&gt;,\n                    func=&lt;function encode_cyc at 0x11fb884c0&gt;)</pre></div></div></div></div></div></div></div></div><div class=\"sk-parallel-item\"><div class=\"sk-item\"><div class=\"sk-label-container\"><div class=\"sk-label sk-toggleable\"><input class=\"sk-toggleable__control sk-hidden--visually\" id=\"sk-estimator-id-222\" type=\"checkbox\" ><label for=\"sk-estimator-id-222\" class=\"sk-toggleable__label sk-toggleable__label-arrow\">month_name_pipeline</label><div class=\"sk-toggleable__content\"><pre>[&#x27;monthName&#x27;]</pre></div></div></div><div class=\"sk-serial\"><div class=\"sk-item\"><div class=\"sk-serial\"><div class=\"sk-item\"><div class=\"sk-estimator sk-toggleable\"><input class=\"sk-toggleable__control sk-hidden--visually\" id=\"sk-estimator-id-223\" type=\"checkbox\" ><label for=\"sk-estimator-id-223\" class=\"sk-toggleable__label sk-toggleable__label-arrow\">FunctionTransformer</label><div class=\"sk-toggleable__content\"><pre>FunctionTransformer(feature_names_out=&lt;function &lt;lambda&gt; at 0x14b6e19d0&gt;,\n                    func=&lt;function encode_numeric_label at 0x14b6e10d0&gt;,\n                    kw_args={&#x27;labels&#x27;: [&#x27;January&#x27;, &#x27;February&#x27;, &#x27;March&#x27;, &#x27;April&#x27;,\n                                        &#x27;May&#x27;, &#x27;June&#x27;, &#x27;July&#x27;, &#x27;August&#x27;,\n                                        &#x27;September&#x27;, &#x27;October&#x27;, &#x27;November&#x27;,\n                                        &#x27;December&#x27;]})</pre></div></div></div><div class=\"sk-item\"><div class=\"sk-estimator sk-toggleable\"><input class=\"sk-toggleable__control sk-hidden--visually\" id=\"sk-estimator-id-224\" type=\"checkbox\" ><label for=\"sk-estimator-id-224\" class=\"sk-toggleable__label sk-toggleable__label-arrow\">FunctionTransformer</label><div class=\"sk-toggleable__content\"><pre>FunctionTransformer(feature_names_out=&lt;function sin_cos_column_names at 0x12a8ca4c0&gt;,\n                    func=&lt;function encode_cyc at 0x11fb884c0&gt;)</pre></div></div></div></div></div></div></div></div><div class=\"sk-parallel-item\"><div class=\"sk-item\"><div class=\"sk-label-container\"><div class=\"sk-label sk-toggleable\"><input class=\"sk-toggleable__control sk-hidden--visually\" id=\"sk-estimator-id-225\" type=\"checkbox\" ><label for=\"sk-estimator-id-225\" class=\"sk-toggleable__label sk-toggleable__label-arrow\">year_pipeline</label><div class=\"sk-toggleable__content\"><pre>[&#x27;Date&#x27;]</pre></div></div></div><div class=\"sk-serial\"><div class=\"sk-item\"><div class=\"sk-serial\"><div class=\"sk-item\"><div class=\"sk-estimator sk-toggleable\"><input class=\"sk-toggleable__control sk-hidden--visually\" id=\"sk-estimator-id-226\" type=\"checkbox\" ><label for=\"sk-estimator-id-226\" class=\"sk-toggleable__label sk-toggleable__label-arrow\">FunctionTransformer</label><div class=\"sk-toggleable__content\"><pre>FunctionTransformer(feature_names_out=&lt;function &lt;lambda&gt; at 0x14b6e1a60&gt;,\n                    func=&lt;function encode_get_year at 0x14b490dc0&gt;)</pre></div></div></div><div class=\"sk-item\"><div class=\"sk-estimator sk-toggleable\"><input class=\"sk-toggleable__control sk-hidden--visually\" id=\"sk-estimator-id-227\" type=\"checkbox\" ><label for=\"sk-estimator-id-227\" class=\"sk-toggleable__label sk-toggleable__label-arrow\">FunctionTransformer</label><div class=\"sk-toggleable__content\"><pre>FunctionTransformer(feature_names_out=&lt;function &lt;lambda&gt; at 0x12aedad30&gt;,\n                    func=&lt;function encode_positional at 0x14b6e1040&gt;)</pre></div></div></div><div class=\"sk-item sk-dashed-wrapped\"><div class=\"sk-label-container\"><div class=\"sk-label sk-toggleable\"><input class=\"sk-toggleable__control sk-hidden--visually\" id=\"sk-estimator-id-228\" type=\"checkbox\" ><label for=\"sk-estimator-id-228\" class=\"sk-toggleable__label sk-toggleable__label-arrow\">scalerwrapper: ScalerWrapper</label><div class=\"sk-toggleable__content\"><pre>ScalerWrapper(scaler=StandardScaler())</pre></div></div></div><div class=\"sk-parallel\"><div class=\"sk-parallel-item\"><div class=\"sk-item\"><div class=\"sk-label-container\"><div class=\"sk-label sk-toggleable\"><input class=\"sk-toggleable__control sk-hidden--visually\" id=\"sk-estimator-id-229\" type=\"checkbox\" ><label for=\"sk-estimator-id-229\" class=\"sk-toggleable__label sk-toggleable__label-arrow\">scaler: StandardScaler</label><div class=\"sk-toggleable__content\"><pre>StandardScaler()</pre></div></div></div><div class=\"sk-serial\"><div class=\"sk-item\"><div class=\"sk-estimator sk-toggleable\"><input class=\"sk-toggleable__control sk-hidden--visually\" id=\"sk-estimator-id-230\" type=\"checkbox\" ><label for=\"sk-estimator-id-230\" class=\"sk-toggleable__label sk-toggleable__label-arrow\">StandardScaler</label><div class=\"sk-toggleable__content\"><pre>StandardScaler()</pre></div></div></div></div></div></div></div></div></div></div></div></div></div><div class=\"sk-parallel-item\"><div class=\"sk-item\"><div class=\"sk-label-container\"><div class=\"sk-label sk-toggleable\"><input class=\"sk-toggleable__control sk-hidden--visually\" id=\"sk-estimator-id-231\" type=\"checkbox\" ><label for=\"sk-estimator-id-231\" class=\"sk-toggleable__label sk-toggleable__label-arrow\">date_pipeline</label><div class=\"sk-toggleable__content\"><pre>[&#x27;Date&#x27;]</pre></div></div></div><div class=\"sk-serial\"><div class=\"sk-item\"><div class=\"sk-serial\"><div class=\"sk-item\"><div class=\"sk-estimator sk-toggleable\"><input class=\"sk-toggleable__control sk-hidden--visually\" id=\"sk-estimator-id-232\" type=\"checkbox\" ><label for=\"sk-estimator-id-232\" class=\"sk-toggleable__label sk-toggleable__label-arrow\">FunctionTransformer</label><div class=\"sk-toggleable__content\"><pre>FunctionTransformer(feature_names_out=&lt;function &lt;lambda&gt; at 0x14b6e1ca0&gt;,\n                    func=&lt;function encode_ordinal at 0x14b490e50&gt;)</pre></div></div></div><div class=\"sk-item\"><div class=\"sk-estimator sk-toggleable\"><input class=\"sk-toggleable__control sk-hidden--visually\" id=\"sk-estimator-id-233\" type=\"checkbox\" ><label for=\"sk-estimator-id-233\" class=\"sk-toggleable__label sk-toggleable__label-arrow\">FunctionTransformer</label><div class=\"sk-toggleable__content\"><pre>FunctionTransformer(feature_names_out=&lt;function &lt;lambda&gt; at 0x12aedad30&gt;,\n                    func=&lt;function encode_positional at 0x14b6e1040&gt;)</pre></div></div></div><div class=\"sk-item sk-dashed-wrapped\"><div class=\"sk-label-container\"><div class=\"sk-label sk-toggleable\"><input class=\"sk-toggleable__control sk-hidden--visually\" id=\"sk-estimator-id-234\" type=\"checkbox\" ><label for=\"sk-estimator-id-234\" class=\"sk-toggleable__label sk-toggleable__label-arrow\">scalerwrapper: ScalerWrapper</label><div class=\"sk-toggleable__content\"><pre>ScalerWrapper(scaler=MinMaxScaler(feature_range=(-1, 1)))</pre></div></div></div><div class=\"sk-parallel\"><div class=\"sk-parallel-item\"><div class=\"sk-item\"><div class=\"sk-label-container\"><div class=\"sk-label sk-toggleable\"><input class=\"sk-toggleable__control sk-hidden--visually\" id=\"sk-estimator-id-235\" type=\"checkbox\" ><label for=\"sk-estimator-id-235\" class=\"sk-toggleable__label sk-toggleable__label-arrow\">scaler: MinMaxScaler</label><div class=\"sk-toggleable__content\"><pre>MinMaxScaler(feature_range=(-1, 1))</pre></div></div></div><div class=\"sk-serial\"><div class=\"sk-item\"><div class=\"sk-estimator sk-toggleable\"><input class=\"sk-toggleable__control sk-hidden--visually\" id=\"sk-estimator-id-236\" type=\"checkbox\" ><label for=\"sk-estimator-id-236\" class=\"sk-toggleable__label sk-toggleable__label-arrow\">MinMaxScaler</label><div class=\"sk-toggleable__content\"><pre>MinMaxScaler(feature_range=(-1, 1))</pre></div></div></div></div></div></div></div></div></div></div></div></div></div></div></div><div class=\"sk-item\"><div class=\"sk-estimator sk-toggleable\"><input class=\"sk-toggleable__control sk-hidden--visually\" id=\"sk-estimator-id-237\" type=\"checkbox\" ><label for=\"sk-estimator-id-237\" class=\"sk-toggleable__label sk-toggleable__label-arrow\">RandomForestRegressor</label><div class=\"sk-toggleable__content\"><pre>RandomForestRegressor(max_features=4, random_state=42)</pre></div></div></div></div></div></div></div>"
     },
     "execution_count": 46,
     "metadata": {},
     "output_type": "execute_result"
    }
   ],
   "source": [
    "grid_search.best_estimator_"
   ],
   "metadata": {
    "collapsed": false,
    "ExecuteTime": {
     "end_time": "2023-11-08T20:08:19.273631Z",
     "start_time": "2023-11-08T20:08:19.091483Z"
    }
   }
  },
  {
   "cell_type": "markdown",
   "source": [
    "And it's possible for us to check the hyperparameter combination evaluation scores tested during the above grid search by accessing `grid_search.cv_results_`. This dictionary can be converted to a DataFrame."
   ],
   "metadata": {
    "collapsed": false
   }
  },
  {
   "cell_type": "code",
   "execution_count": 47,
   "outputs": [
    {
     "data": {
      "text/plain": "   n_clusters sample_weight_label_scale max_features  split0  split1  split2  \\\n25          6                     0.025            4    1052    1059    1084   \n22          6                     0.023            4    1054    1061    1091   \n26          6                     0.025            5    1059    1058    1095   \n13          5                     0.023            4    1056    1061    1097   \n7           4                     0.025            4    1053    1063    1098   \n\n    mean_test_rmse  \n25            1065  \n22            1069  \n26            1071  \n13            1071  \n7             1071  ",
      "text/html": "<div>\n<style scoped>\n    .dataframe tbody tr th:only-of-type {\n        vertical-align: middle;\n    }\n\n    .dataframe tbody tr th {\n        vertical-align: top;\n    }\n\n    .dataframe thead th {\n        text-align: right;\n    }\n</style>\n<table border=\"1\" class=\"dataframe\">\n  <thead>\n    <tr style=\"text-align: right;\">\n      <th></th>\n      <th>n_clusters</th>\n      <th>sample_weight_label_scale</th>\n      <th>max_features</th>\n      <th>split0</th>\n      <th>split1</th>\n      <th>split2</th>\n      <th>mean_test_rmse</th>\n    </tr>\n  </thead>\n  <tbody>\n    <tr>\n      <th>25</th>\n      <td>6</td>\n      <td>0.025</td>\n      <td>4</td>\n      <td>1052</td>\n      <td>1059</td>\n      <td>1084</td>\n      <td>1065</td>\n    </tr>\n    <tr>\n      <th>22</th>\n      <td>6</td>\n      <td>0.023</td>\n      <td>4</td>\n      <td>1054</td>\n      <td>1061</td>\n      <td>1091</td>\n      <td>1069</td>\n    </tr>\n    <tr>\n      <th>26</th>\n      <td>6</td>\n      <td>0.025</td>\n      <td>5</td>\n      <td>1059</td>\n      <td>1058</td>\n      <td>1095</td>\n      <td>1071</td>\n    </tr>\n    <tr>\n      <th>13</th>\n      <td>5</td>\n      <td>0.023</td>\n      <td>4</td>\n      <td>1056</td>\n      <td>1061</td>\n      <td>1097</td>\n      <td>1071</td>\n    </tr>\n    <tr>\n      <th>7</th>\n      <td>4</td>\n      <td>0.025</td>\n      <td>4</td>\n      <td>1053</td>\n      <td>1063</td>\n      <td>1098</td>\n      <td>1071</td>\n    </tr>\n  </tbody>\n</table>\n</div>"
     },
     "execution_count": 47,
     "metadata": {},
     "output_type": "execute_result"
    }
   ],
   "source": [
    "cv_res = pd.DataFrame(grid_search.cv_results_)\n",
    "cv_res.sort_values(by=\"mean_test_score\", ascending=False, inplace=True)\n",
    "\n",
    "# change column names and show rmse as -score\n",
    "cv_res = cv_res[[\n",
    "    \"param_preprocessing__day_of_year_cluster_simil_pipeline__clustersimilaritymeasure__n_clusters\",\n",
    "    \"param_preprocessing__day_of_year_cluster_simil_pipeline__clustersimilaritymeasure__sample_weight_label_scale\",\n",
    "    \"param_random_forest__max_features\",\n",
    "    \"split0_test_score\", \"split1_test_score\", \"split2_test_score\", \"mean_test_score\"]]\n",
    "score_cols = [\"split0\", \"split1\", \"split2\", \"mean_test_rmse\"]\n",
    "cv_res.columns = [\"n_clusters\", \"sample_weight_label_scale\", \"max_features\"] + score_cols\n",
    "cv_res[score_cols] = -cv_res[score_cols].round().astype(np.int64)\n",
    "\n",
    "cv_res.head()"
   ],
   "metadata": {
    "collapsed": false,
    "ExecuteTime": {
     "end_time": "2023-11-08T20:08:19.284710Z",
     "start_time": "2023-11-08T20:08:19.278205Z"
    }
   }
  },
  {
   "cell_type": "markdown",
   "source": [
    "Now let's suppose we want to do the same using a `RandomizedSearchCV`. From this, we can search a larger number of combinations for continuous or discrete valued parameters, identify hyperparameters that might not contribute much, and run for a specific number of iterations for flexibility even in a larger search space."
   ],
   "metadata": {
    "collapsed": false
   }
  },
  {
   "cell_type": "code",
   "execution_count": 48,
   "outputs": [
    {
     "data": {
      "text/plain": "RandomizedSearchCV(cv=3,\n                   estimator=Pipeline(steps=[('preprocessing',\n                                              ColumnTransformer(transformers=[('day_of_year_pipeline',\n                                                                               Pipeline(steps=[('functiontransformer',\n                                                                                                FunctionTransformer(feature_names_out=<function sin_cos_column_names at 0x12a8ca4c0>,\n                                                                                                                    func=<function encode_cyc at 0x11fb884c0>))]),\n                                                                               ['dayOfYear']),\n                                                                              ('day_of_year_cluster_simil_pipeline',\n                                                                               Pipeline(s...\n                   param_distributions={'preprocessing__day_of_year_cluster_simil_pipeline__clustersimilaritymeasure__n_clusters': <scipy.stats._distn_infrastructure.rv_frozen object at 0x14b6e24c0>,\n                                        'preprocessing__day_of_year_cluster_simil_pipeline__clustersimilaritymeasure__sample_weight_label_scale': <scipy.stats._distn_infrastructure.rv_frozen object at 0x12b392940>,\n                                        'random_forest__max_features': <scipy.stats._distn_infrastructure.rv_frozen object at 0x14b6e2730>},\n                   random_state=42, scoring='neg_root_mean_squared_error')",
      "text/html": "<style>#sk-container-id-10 {color: black;background-color: white;}#sk-container-id-10 pre{padding: 0;}#sk-container-id-10 div.sk-toggleable {background-color: white;}#sk-container-id-10 label.sk-toggleable__label {cursor: pointer;display: block;width: 100%;margin-bottom: 0;padding: 0.3em;box-sizing: border-box;text-align: center;}#sk-container-id-10 label.sk-toggleable__label-arrow:before {content: \"▸\";float: left;margin-right: 0.25em;color: #696969;}#sk-container-id-10 label.sk-toggleable__label-arrow:hover:before {color: black;}#sk-container-id-10 div.sk-estimator:hover label.sk-toggleable__label-arrow:before {color: black;}#sk-container-id-10 div.sk-toggleable__content {max-height: 0;max-width: 0;overflow: hidden;text-align: left;background-color: #f0f8ff;}#sk-container-id-10 div.sk-toggleable__content pre {margin: 0.2em;color: black;border-radius: 0.25em;background-color: #f0f8ff;}#sk-container-id-10 input.sk-toggleable__control:checked~div.sk-toggleable__content {max-height: 200px;max-width: 100%;overflow: auto;}#sk-container-id-10 input.sk-toggleable__control:checked~label.sk-toggleable__label-arrow:before {content: \"▾\";}#sk-container-id-10 div.sk-estimator input.sk-toggleable__control:checked~label.sk-toggleable__label {background-color: #d4ebff;}#sk-container-id-10 div.sk-label input.sk-toggleable__control:checked~label.sk-toggleable__label {background-color: #d4ebff;}#sk-container-id-10 input.sk-hidden--visually {border: 0;clip: rect(1px 1px 1px 1px);clip: rect(1px, 1px, 1px, 1px);height: 1px;margin: -1px;overflow: hidden;padding: 0;position: absolute;width: 1px;}#sk-container-id-10 div.sk-estimator {font-family: monospace;background-color: #f0f8ff;border: 1px dotted black;border-radius: 0.25em;box-sizing: border-box;margin-bottom: 0.5em;}#sk-container-id-10 div.sk-estimator:hover {background-color: #d4ebff;}#sk-container-id-10 div.sk-parallel-item::after {content: \"\";width: 100%;border-bottom: 1px solid gray;flex-grow: 1;}#sk-container-id-10 div.sk-label:hover label.sk-toggleable__label {background-color: #d4ebff;}#sk-container-id-10 div.sk-serial::before {content: \"\";position: absolute;border-left: 1px solid gray;box-sizing: border-box;top: 0;bottom: 0;left: 50%;z-index: 0;}#sk-container-id-10 div.sk-serial {display: flex;flex-direction: column;align-items: center;background-color: white;padding-right: 0.2em;padding-left: 0.2em;position: relative;}#sk-container-id-10 div.sk-item {position: relative;z-index: 1;}#sk-container-id-10 div.sk-parallel {display: flex;align-items: stretch;justify-content: center;background-color: white;position: relative;}#sk-container-id-10 div.sk-item::before, #sk-container-id-10 div.sk-parallel-item::before {content: \"\";position: absolute;border-left: 1px solid gray;box-sizing: border-box;top: 0;bottom: 0;left: 50%;z-index: -1;}#sk-container-id-10 div.sk-parallel-item {display: flex;flex-direction: column;z-index: 1;position: relative;background-color: white;}#sk-container-id-10 div.sk-parallel-item:first-child::after {align-self: flex-end;width: 50%;}#sk-container-id-10 div.sk-parallel-item:last-child::after {align-self: flex-start;width: 50%;}#sk-container-id-10 div.sk-parallel-item:only-child::after {width: 0;}#sk-container-id-10 div.sk-dashed-wrapped {border: 1px dashed gray;margin: 0 0.4em 0.5em 0.4em;box-sizing: border-box;padding-bottom: 0.4em;background-color: white;}#sk-container-id-10 div.sk-label label {font-family: monospace;font-weight: bold;display: inline-block;line-height: 1.2em;}#sk-container-id-10 div.sk-label-container {text-align: center;}#sk-container-id-10 div.sk-container {/* jupyter's `normalize.less` sets `[hidden] { display: none; }` but bootstrap.min.css set `[hidden] { display: none !important; }` so we also need the `!important` here to be able to override the default hidden behavior on the sphinx rendered scikit-learn.org. See: https://github.com/scikit-learn/scikit-learn/issues/21755 */display: inline-block !important;position: relative;}#sk-container-id-10 div.sk-text-repr-fallback {display: none;}</style><div id=\"sk-container-id-10\" class=\"sk-top-container\"><div class=\"sk-text-repr-fallback\"><pre>RandomizedSearchCV(cv=3,\n                   estimator=Pipeline(steps=[(&#x27;preprocessing&#x27;,\n                                              ColumnTransformer(transformers=[(&#x27;day_of_year_pipeline&#x27;,\n                                                                               Pipeline(steps=[(&#x27;functiontransformer&#x27;,\n                                                                                                FunctionTransformer(feature_names_out=&lt;function sin_cos_column_names at 0x12a8ca4c0&gt;,\n                                                                                                                    func=&lt;function encode_cyc at 0x11fb884c0&gt;))]),\n                                                                               [&#x27;dayOfYear&#x27;]),\n                                                                              (&#x27;day_of_year_cluster_simil_pipeline&#x27;,\n                                                                               Pipeline(s...\n                   param_distributions={&#x27;preprocessing__day_of_year_cluster_simil_pipeline__clustersimilaritymeasure__n_clusters&#x27;: &lt;scipy.stats._distn_infrastructure.rv_frozen object at 0x14b6e24c0&gt;,\n                                        &#x27;preprocessing__day_of_year_cluster_simil_pipeline__clustersimilaritymeasure__sample_weight_label_scale&#x27;: &lt;scipy.stats._distn_infrastructure.rv_frozen object at 0x12b392940&gt;,\n                                        &#x27;random_forest__max_features&#x27;: &lt;scipy.stats._distn_infrastructure.rv_frozen object at 0x14b6e2730&gt;},\n                   random_state=42, scoring=&#x27;neg_root_mean_squared_error&#x27;)</pre><b>In a Jupyter environment, please rerun this cell to show the HTML representation or trust the notebook. <br />On GitHub, the HTML representation is unable to render, please try loading this page with nbviewer.org.</b></div><div class=\"sk-container\" hidden><div class=\"sk-item sk-dashed-wrapped\"><div class=\"sk-label-container\"><div class=\"sk-label sk-toggleable\"><input class=\"sk-toggleable__control sk-hidden--visually\" id=\"sk-estimator-id-238\" type=\"checkbox\" ><label for=\"sk-estimator-id-238\" class=\"sk-toggleable__label sk-toggleable__label-arrow\">RandomizedSearchCV</label><div class=\"sk-toggleable__content\"><pre>RandomizedSearchCV(cv=3,\n                   estimator=Pipeline(steps=[(&#x27;preprocessing&#x27;,\n                                              ColumnTransformer(transformers=[(&#x27;day_of_year_pipeline&#x27;,\n                                                                               Pipeline(steps=[(&#x27;functiontransformer&#x27;,\n                                                                                                FunctionTransformer(feature_names_out=&lt;function sin_cos_column_names at 0x12a8ca4c0&gt;,\n                                                                                                                    func=&lt;function encode_cyc at 0x11fb884c0&gt;))]),\n                                                                               [&#x27;dayOfYear&#x27;]),\n                                                                              (&#x27;day_of_year_cluster_simil_pipeline&#x27;,\n                                                                               Pipeline(s...\n                   param_distributions={&#x27;preprocessing__day_of_year_cluster_simil_pipeline__clustersimilaritymeasure__n_clusters&#x27;: &lt;scipy.stats._distn_infrastructure.rv_frozen object at 0x14b6e24c0&gt;,\n                                        &#x27;preprocessing__day_of_year_cluster_simil_pipeline__clustersimilaritymeasure__sample_weight_label_scale&#x27;: &lt;scipy.stats._distn_infrastructure.rv_frozen object at 0x12b392940&gt;,\n                                        &#x27;random_forest__max_features&#x27;: &lt;scipy.stats._distn_infrastructure.rv_frozen object at 0x14b6e2730&gt;},\n                   random_state=42, scoring=&#x27;neg_root_mean_squared_error&#x27;)</pre></div></div></div><div class=\"sk-parallel\"><div class=\"sk-parallel-item\"><div class=\"sk-item\"><div class=\"sk-label-container\"><div class=\"sk-label sk-toggleable\"><input class=\"sk-toggleable__control sk-hidden--visually\" id=\"sk-estimator-id-239\" type=\"checkbox\" ><label for=\"sk-estimator-id-239\" class=\"sk-toggleable__label sk-toggleable__label-arrow\">estimator: Pipeline</label><div class=\"sk-toggleable__content\"><pre>Pipeline(steps=[(&#x27;preprocessing&#x27;,\n                 ColumnTransformer(transformers=[(&#x27;day_of_year_pipeline&#x27;,\n                                                  Pipeline(steps=[(&#x27;functiontransformer&#x27;,\n                                                                   FunctionTransformer(feature_names_out=&lt;function sin_cos_column_names at 0x12a8ca4c0&gt;,\n                                                                                       func=&lt;function encode_cyc at 0x11fb884c0&gt;))]),\n                                                  [&#x27;dayOfYear&#x27;]),\n                                                 (&#x27;day_of_year_cluster_simil_pipeline&#x27;,\n                                                  Pipeline(steps=[(&#x27;functiontransformer&#x27;,\n                                                                   Funct...\n                                                                                       func=&lt;function encode_ordinal at 0x14b490e50&gt;)),\n                                                                  (&#x27;functiontransformer-2&#x27;,\n                                                                   FunctionTransformer(feature_names_out=&lt;function &lt;lambda&gt; at 0x12aedad30&gt;,\n                                                                                       func=&lt;function encode_positional at 0x14b6e1040&gt;)),\n                                                                  (&#x27;scalerwrapper&#x27;,\n                                                                   ScalerWrapper(scaler=MinMaxScaler(feature_range=(-1,\n                                                                                                                    1))))]),\n                                                  [&#x27;Date&#x27;])])),\n                (&#x27;random_forest&#x27;,\n                 RandomForestRegressor(max_features=4, random_state=42))])</pre></div></div></div><div class=\"sk-serial\"><div class=\"sk-item\"><div class=\"sk-serial\"><div class=\"sk-item sk-dashed-wrapped\"><div class=\"sk-label-container\"><div class=\"sk-label sk-toggleable\"><input class=\"sk-toggleable__control sk-hidden--visually\" id=\"sk-estimator-id-240\" type=\"checkbox\" ><label for=\"sk-estimator-id-240\" class=\"sk-toggleable__label sk-toggleable__label-arrow\">preprocessing: ColumnTransformer</label><div class=\"sk-toggleable__content\"><pre>ColumnTransformer(transformers=[(&#x27;day_of_year_pipeline&#x27;,\n                                 Pipeline(steps=[(&#x27;functiontransformer&#x27;,\n                                                  FunctionTransformer(feature_names_out=&lt;function sin_cos_column_names at 0x12a8ca4c0&gt;,\n                                                                      func=&lt;function encode_cyc at 0x11fb884c0&gt;))]),\n                                 [&#x27;dayOfYear&#x27;]),\n                                (&#x27;day_of_year_cluster_simil_pipeline&#x27;,\n                                 Pipeline(steps=[(&#x27;functiontransformer&#x27;,\n                                                  FunctionTransformer(feature_names_out=...\n                                 Pipeline(steps=[(&#x27;functiontransformer-1&#x27;,\n                                                  FunctionTransformer(feature_names_out=&lt;function &lt;lambda&gt; at 0x14b6e1ca0&gt;,\n                                                                      func=&lt;function encode_ordinal at 0x14b490e50&gt;)),\n                                                 (&#x27;functiontransformer-2&#x27;,\n                                                  FunctionTransformer(feature_names_out=&lt;function &lt;lambda&gt; at 0x12aedad30&gt;,\n                                                                      func=&lt;function encode_positional at 0x14b6e1040&gt;)),\n                                                 (&#x27;scalerwrapper&#x27;,\n                                                  ScalerWrapper(scaler=MinMaxScaler(feature_range=(-1,\n                                                                                                   1))))]),\n                                 [&#x27;Date&#x27;])])</pre></div></div></div><div class=\"sk-parallel\"><div class=\"sk-parallel-item\"><div class=\"sk-item\"><div class=\"sk-label-container\"><div class=\"sk-label sk-toggleable\"><input class=\"sk-toggleable__control sk-hidden--visually\" id=\"sk-estimator-id-241\" type=\"checkbox\" ><label for=\"sk-estimator-id-241\" class=\"sk-toggleable__label sk-toggleable__label-arrow\">day_of_year_pipeline</label><div class=\"sk-toggleable__content\"><pre>[&#x27;dayOfYear&#x27;]</pre></div></div></div><div class=\"sk-serial\"><div class=\"sk-item\"><div class=\"sk-serial\"><div class=\"sk-item\"><div class=\"sk-estimator sk-toggleable\"><input class=\"sk-toggleable__control sk-hidden--visually\" id=\"sk-estimator-id-242\" type=\"checkbox\" ><label for=\"sk-estimator-id-242\" class=\"sk-toggleable__label sk-toggleable__label-arrow\">FunctionTransformer</label><div class=\"sk-toggleable__content\"><pre>FunctionTransformer(feature_names_out=&lt;function sin_cos_column_names at 0x12a8ca4c0&gt;,\n                    func=&lt;function encode_cyc at 0x11fb884c0&gt;)</pre></div></div></div></div></div></div></div></div><div class=\"sk-parallel-item\"><div class=\"sk-item\"><div class=\"sk-label-container\"><div class=\"sk-label sk-toggleable\"><input class=\"sk-toggleable__control sk-hidden--visually\" id=\"sk-estimator-id-243\" type=\"checkbox\" ><label for=\"sk-estimator-id-243\" class=\"sk-toggleable__label sk-toggleable__label-arrow\">day_of_year_cluster_simil_pipeline</label><div class=\"sk-toggleable__content\"><pre>[&#x27;dayOfYear&#x27;]</pre></div></div></div><div class=\"sk-serial\"><div class=\"sk-item\"><div class=\"sk-serial\"><div class=\"sk-item\"><div class=\"sk-estimator sk-toggleable\"><input class=\"sk-toggleable__control sk-hidden--visually\" id=\"sk-estimator-id-244\" type=\"checkbox\" ><label for=\"sk-estimator-id-244\" class=\"sk-toggleable__label sk-toggleable__label-arrow\">FunctionTransformer</label><div class=\"sk-toggleable__content\"><pre>FunctionTransformer(feature_names_out=&lt;function sin_cos_column_names at 0x12a8ca4c0&gt;,\n                    func=&lt;function encode_cyc at 0x11fb884c0&gt;)</pre></div></div></div><div class=\"sk-item\"><div class=\"sk-estimator sk-toggleable\"><input class=\"sk-toggleable__control sk-hidden--visually\" id=\"sk-estimator-id-245\" type=\"checkbox\" ><label for=\"sk-estimator-id-245\" class=\"sk-toggleable__label sk-toggleable__label-arrow\">ClusterSimilarityMeasure</label><div class=\"sk-toggleable__content\"><pre>ClusterSimilarityMeasure(n_clusters=3)</pre></div></div></div></div></div></div></div></div><div class=\"sk-parallel-item\"><div class=\"sk-item\"><div class=\"sk-label-container\"><div class=\"sk-label sk-toggleable\"><input class=\"sk-toggleable__control sk-hidden--visually\" id=\"sk-estimator-id-246\" type=\"checkbox\" ><label for=\"sk-estimator-id-246\" class=\"sk-toggleable__label sk-toggleable__label-arrow\">start_hour_pipeline</label><div class=\"sk-toggleable__content\"><pre>[&#x27;StartHour&#x27;]</pre></div></div></div><div class=\"sk-serial\"><div class=\"sk-item\"><div class=\"sk-serial\"><div class=\"sk-item\"><div class=\"sk-estimator sk-toggleable\"><input class=\"sk-toggleable__control sk-hidden--visually\" id=\"sk-estimator-id-247\" type=\"checkbox\" ><label for=\"sk-estimator-id-247\" class=\"sk-toggleable__label sk-toggleable__label-arrow\">FunctionTransformer</label><div class=\"sk-toggleable__content\"><pre>FunctionTransformer(feature_names_out=&lt;function &lt;lambda&gt; at 0x14b6e1940&gt;,\n                    func=&lt;function encode_get_seconds at 0x14b490d30&gt;)</pre></div></div></div><div class=\"sk-item\"><div class=\"sk-estimator sk-toggleable\"><input class=\"sk-toggleable__control sk-hidden--visually\" id=\"sk-estimator-id-248\" type=\"checkbox\" ><label for=\"sk-estimator-id-248\" class=\"sk-toggleable__label sk-toggleable__label-arrow\">FunctionTransformer</label><div class=\"sk-toggleable__content\"><pre>FunctionTransformer(feature_names_out=&lt;function sin_cos_column_names at 0x12a8ca4c0&gt;,\n                    func=&lt;function encode_cyc at 0x11fb884c0&gt;)</pre></div></div></div></div></div></div></div></div><div class=\"sk-parallel-item\"><div class=\"sk-item\"><div class=\"sk-label-container\"><div class=\"sk-label sk-toggleable\"><input class=\"sk-toggleable__control sk-hidden--visually\" id=\"sk-estimator-id-249\" type=\"checkbox\" ><label for=\"sk-estimator-id-249\" class=\"sk-toggleable__label sk-toggleable__label-arrow\">month_name_pipeline</label><div class=\"sk-toggleable__content\"><pre>[&#x27;monthName&#x27;]</pre></div></div></div><div class=\"sk-serial\"><div class=\"sk-item\"><div class=\"sk-serial\"><div class=\"sk-item\"><div class=\"sk-estimator sk-toggleable\"><input class=\"sk-toggleable__control sk-hidden--visually\" id=\"sk-estimator-id-250\" type=\"checkbox\" ><label for=\"sk-estimator-id-250\" class=\"sk-toggleable__label sk-toggleable__label-arrow\">FunctionTransformer</label><div class=\"sk-toggleable__content\"><pre>FunctionTransformer(feature_names_out=&lt;function &lt;lambda&gt; at 0x14b6e19d0&gt;,\n                    func=&lt;function encode_numeric_label at 0x14b6e10d0&gt;,\n                    kw_args={&#x27;labels&#x27;: [&#x27;January&#x27;, &#x27;February&#x27;, &#x27;March&#x27;, &#x27;April&#x27;,\n                                        &#x27;May&#x27;, &#x27;June&#x27;, &#x27;July&#x27;, &#x27;August&#x27;,\n                                        &#x27;September&#x27;, &#x27;October&#x27;, &#x27;November&#x27;,\n                                        &#x27;December&#x27;]})</pre></div></div></div><div class=\"sk-item\"><div class=\"sk-estimator sk-toggleable\"><input class=\"sk-toggleable__control sk-hidden--visually\" id=\"sk-estimator-id-251\" type=\"checkbox\" ><label for=\"sk-estimator-id-251\" class=\"sk-toggleable__label sk-toggleable__label-arrow\">FunctionTransformer</label><div class=\"sk-toggleable__content\"><pre>FunctionTransformer(feature_names_out=&lt;function sin_cos_column_names at 0x12a8ca4c0&gt;,\n                    func=&lt;function encode_cyc at 0x11fb884c0&gt;)</pre></div></div></div></div></div></div></div></div><div class=\"sk-parallel-item\"><div class=\"sk-item\"><div class=\"sk-label-container\"><div class=\"sk-label sk-toggleable\"><input class=\"sk-toggleable__control sk-hidden--visually\" id=\"sk-estimator-id-252\" type=\"checkbox\" ><label for=\"sk-estimator-id-252\" class=\"sk-toggleable__label sk-toggleable__label-arrow\">year_pipeline</label><div class=\"sk-toggleable__content\"><pre>[&#x27;Date&#x27;]</pre></div></div></div><div class=\"sk-serial\"><div class=\"sk-item\"><div class=\"sk-serial\"><div class=\"sk-item\"><div class=\"sk-estimator sk-toggleable\"><input class=\"sk-toggleable__control sk-hidden--visually\" id=\"sk-estimator-id-253\" type=\"checkbox\" ><label for=\"sk-estimator-id-253\" class=\"sk-toggleable__label sk-toggleable__label-arrow\">FunctionTransformer</label><div class=\"sk-toggleable__content\"><pre>FunctionTransformer(feature_names_out=&lt;function &lt;lambda&gt; at 0x14b6e1a60&gt;,\n                    func=&lt;function encode_get_year at 0x14b490dc0&gt;)</pre></div></div></div><div class=\"sk-item\"><div class=\"sk-estimator sk-toggleable\"><input class=\"sk-toggleable__control sk-hidden--visually\" id=\"sk-estimator-id-254\" type=\"checkbox\" ><label for=\"sk-estimator-id-254\" class=\"sk-toggleable__label sk-toggleable__label-arrow\">FunctionTransformer</label><div class=\"sk-toggleable__content\"><pre>FunctionTransformer(feature_names_out=&lt;function &lt;lambda&gt; at 0x12aedad30&gt;,\n                    func=&lt;function encode_positional at 0x14b6e1040&gt;)</pre></div></div></div><div class=\"sk-item sk-dashed-wrapped\"><div class=\"sk-label-container\"><div class=\"sk-label sk-toggleable\"><input class=\"sk-toggleable__control sk-hidden--visually\" id=\"sk-estimator-id-255\" type=\"checkbox\" ><label for=\"sk-estimator-id-255\" class=\"sk-toggleable__label sk-toggleable__label-arrow\">scalerwrapper: ScalerWrapper</label><div class=\"sk-toggleable__content\"><pre>ScalerWrapper(scaler=StandardScaler())</pre></div></div></div><div class=\"sk-parallel\"><div class=\"sk-parallel-item\"><div class=\"sk-item\"><div class=\"sk-label-container\"><div class=\"sk-label sk-toggleable\"><input class=\"sk-toggleable__control sk-hidden--visually\" id=\"sk-estimator-id-256\" type=\"checkbox\" ><label for=\"sk-estimator-id-256\" class=\"sk-toggleable__label sk-toggleable__label-arrow\">scaler: StandardScaler</label><div class=\"sk-toggleable__content\"><pre>StandardScaler()</pre></div></div></div><div class=\"sk-serial\"><div class=\"sk-item\"><div class=\"sk-estimator sk-toggleable\"><input class=\"sk-toggleable__control sk-hidden--visually\" id=\"sk-estimator-id-257\" type=\"checkbox\" ><label for=\"sk-estimator-id-257\" class=\"sk-toggleable__label sk-toggleable__label-arrow\">StandardScaler</label><div class=\"sk-toggleable__content\"><pre>StandardScaler()</pre></div></div></div></div></div></div></div></div></div></div></div></div></div><div class=\"sk-parallel-item\"><div class=\"sk-item\"><div class=\"sk-label-container\"><div class=\"sk-label sk-toggleable\"><input class=\"sk-toggleable__control sk-hidden--visually\" id=\"sk-estimator-id-258\" type=\"checkbox\" ><label for=\"sk-estimator-id-258\" class=\"sk-toggleable__label sk-toggleable__label-arrow\">date_pipeline</label><div class=\"sk-toggleable__content\"><pre>[&#x27;Date&#x27;]</pre></div></div></div><div class=\"sk-serial\"><div class=\"sk-item\"><div class=\"sk-serial\"><div class=\"sk-item\"><div class=\"sk-estimator sk-toggleable\"><input class=\"sk-toggleable__control sk-hidden--visually\" id=\"sk-estimator-id-259\" type=\"checkbox\" ><label for=\"sk-estimator-id-259\" class=\"sk-toggleable__label sk-toggleable__label-arrow\">FunctionTransformer</label><div class=\"sk-toggleable__content\"><pre>FunctionTransformer(feature_names_out=&lt;function &lt;lambda&gt; at 0x14b6e1ca0&gt;,\n                    func=&lt;function encode_ordinal at 0x14b490e50&gt;)</pre></div></div></div><div class=\"sk-item\"><div class=\"sk-estimator sk-toggleable\"><input class=\"sk-toggleable__control sk-hidden--visually\" id=\"sk-estimator-id-260\" type=\"checkbox\" ><label for=\"sk-estimator-id-260\" class=\"sk-toggleable__label sk-toggleable__label-arrow\">FunctionTransformer</label><div class=\"sk-toggleable__content\"><pre>FunctionTransformer(feature_names_out=&lt;function &lt;lambda&gt; at 0x12aedad30&gt;,\n                    func=&lt;function encode_positional at 0x14b6e1040&gt;)</pre></div></div></div><div class=\"sk-item sk-dashed-wrapped\"><div class=\"sk-label-container\"><div class=\"sk-label sk-toggleable\"><input class=\"sk-toggleable__control sk-hidden--visually\" id=\"sk-estimator-id-261\" type=\"checkbox\" ><label for=\"sk-estimator-id-261\" class=\"sk-toggleable__label sk-toggleable__label-arrow\">scalerwrapper: ScalerWrapper</label><div class=\"sk-toggleable__content\"><pre>ScalerWrapper(scaler=MinMaxScaler(feature_range=(-1, 1)))</pre></div></div></div><div class=\"sk-parallel\"><div class=\"sk-parallel-item\"><div class=\"sk-item\"><div class=\"sk-label-container\"><div class=\"sk-label sk-toggleable\"><input class=\"sk-toggleable__control sk-hidden--visually\" id=\"sk-estimator-id-262\" type=\"checkbox\" ><label for=\"sk-estimator-id-262\" class=\"sk-toggleable__label sk-toggleable__label-arrow\">scaler: MinMaxScaler</label><div class=\"sk-toggleable__content\"><pre>MinMaxScaler(feature_range=(-1, 1))</pre></div></div></div><div class=\"sk-serial\"><div class=\"sk-item\"><div class=\"sk-estimator sk-toggleable\"><input class=\"sk-toggleable__control sk-hidden--visually\" id=\"sk-estimator-id-263\" type=\"checkbox\" ><label for=\"sk-estimator-id-263\" class=\"sk-toggleable__label sk-toggleable__label-arrow\">MinMaxScaler</label><div class=\"sk-toggleable__content\"><pre>MinMaxScaler(feature_range=(-1, 1))</pre></div></div></div></div></div></div></div></div></div></div></div></div></div></div></div><div class=\"sk-item\"><div class=\"sk-estimator sk-toggleable\"><input class=\"sk-toggleable__control sk-hidden--visually\" id=\"sk-estimator-id-264\" type=\"checkbox\" ><label for=\"sk-estimator-id-264\" class=\"sk-toggleable__label sk-toggleable__label-arrow\">RandomForestRegressor</label><div class=\"sk-toggleable__content\"><pre>RandomForestRegressor(max_features=4, random_state=42)</pre></div></div></div></div></div></div></div></div></div></div></div></div>"
     },
     "execution_count": 48,
     "metadata": {},
     "output_type": "execute_result"
    }
   ],
   "source": [
    "from sklearn.model_selection import RandomizedSearchCV\n",
    "from scipy.stats import uniform, randint\n",
    "\n",
    "# further improvements on the following could involve exploring HalvingRandomSearchCV\n",
    "param_distributions = {\n",
    "    \"preprocessing__day_of_year_cluster_simil_pipeline__clustersimilaritymeasure__n_clusters\": randint(2, 10),\n",
    "    \"preprocessing__day_of_year_cluster_simil_pipeline__clustersimilaritymeasure__sample_weight_label_scale\": uniform(.018, .022),\n",
    "    \"random_forest__max_features\": randint(3, 6)\n",
    "}\n",
    "\n",
    "rnd_search = RandomizedSearchCV(\n",
    "    forest_reg, param_distributions=param_distributions, n_iter=15, cv=3,\n",
    "    scoring=\"neg_root_mean_squared_error\", random_state=42\n",
    ")\n",
    "rnd_search.fit(electricity_production_data, electricity_production_data_labels)"
   ],
   "metadata": {
    "collapsed": false,
    "ExecuteTime": {
     "end_time": "2023-11-08T20:10:41.900223Z",
     "start_time": "2023-11-08T20:08:19.291824Z"
    }
   }
  },
  {
   "cell_type": "code",
   "execution_count": 49,
   "outputs": [
    {
     "data": {
      "text/plain": "{'preprocessing__day_of_year_cluster_simil_pipeline__clustersimilaritymeasure__n_clusters': 6,\n 'preprocessing__day_of_year_cluster_simil_pipeline__clustersimilaritymeasure__sample_weight_label_scale': 0.027910983543329944,\n 'random_forest__max_features': 4}"
     },
     "execution_count": 49,
     "metadata": {},
     "output_type": "execute_result"
    }
   ],
   "source": [
    "rnd_search.best_params_"
   ],
   "metadata": {
    "collapsed": false,
    "ExecuteTime": {
     "end_time": "2023-11-08T20:10:41.923976Z",
     "start_time": "2023-11-08T20:10:41.892718Z"
    }
   }
  },
  {
   "cell_type": "markdown",
   "source": [
    "From our RandomSearchCV, we can see assess the relative importance of each feature when making accurate predictions."
   ],
   "metadata": {
    "collapsed": false
   }
  },
  {
   "cell_type": "code",
   "execution_count": 50,
   "outputs": [
    {
     "data": {
      "text/plain": "[(0.2038900152457571, 'date_pipeline__DateOrdinal_pos'),\n (0.09689740438952527,\n  'day_of_year_cluster_simil_pipeline__Cluster 4 similarity'),\n (0.0918403980712294, 'day_of_year_pipeline__dayOfYear_cos'),\n (0.08027996042399588, 'year_pipeline__DateYear_pos'),\n (0.0780239086432657, 'start_hour_pipeline__StartHourSeconds_sin'),\n (0.06745944310600577,\n  'day_of_year_cluster_simil_pipeline__Cluster 2 similarity'),\n (0.06646745388671078,\n  'day_of_year_cluster_simil_pipeline__Cluster 0 similarity'),\n (0.05866836488616485,\n  'day_of_year_cluster_simil_pipeline__Cluster 3 similarity'),\n (0.05828673989816628,\n  'day_of_year_cluster_simil_pipeline__Cluster 5 similarity'),\n (0.0556449234955637,\n  'day_of_year_cluster_simil_pipeline__Cluster 1 similarity'),\n (0.0534446002469151, 'day_of_year_pipeline__dayOfYear_sin'),\n (0.05331526601315618, 'start_hour_pipeline__StartHourSeconds_cos'),\n (0.02542249923489581, 'month_name_pipeline__monthNameNumeric_cos'),\n (0.010359022458648125, 'month_name_pipeline__monthNameNumeric_sin')]"
     },
     "execution_count": 50,
     "metadata": {},
     "output_type": "execute_result"
    }
   ],
   "source": [
    "model = rnd_search.best_estimator_\n",
    "relative_feature_importance = model[\"random_forest\"].feature_importances_ \n",
    "sorted(zip(relative_feature_importance, model[\"preprocessing\"].get_feature_names_out()), reverse=True)"
   ],
   "metadata": {
    "collapsed": false,
    "ExecuteTime": {
     "end_time": "2023-11-08T20:10:41.986431Z",
     "start_time": "2023-11-08T20:10:41.898996Z"
    }
   }
  },
  {
   "cell_type": "markdown",
   "source": [
    "If we considered dropping any features here, we might find that the monthName has very little to contribute, and so could be dropped. The `SelectFromModel` transformer's transform method can be used to automatically drop less useful features after model training. Let's now look at evaluating our model against unseen data in the test set."
   ],
   "metadata": {
    "collapsed": false
   }
  },
  {
   "cell_type": "code",
   "execution_count": 51,
   "outputs": [
    {
     "data": {
      "text/plain": "1027.6846607912303"
     },
     "execution_count": 51,
     "metadata": {},
     "output_type": "execute_result"
    }
   ],
   "source": [
    "electricity_production_data_test = strat_test_set.drop(\"Production\", axis=1)\n",
    "electricity_production_data_test_labels = strat_test_set[\"Production\"].copy()\n",
    "\n",
    "electricity_production_data_test_predictions = model.predict(electricity_production_data_test)\n",
    "test_rmse = mean_squared_error(\n",
    "    electricity_production_data_test_labels, \n",
    "    electricity_production_data_test_predictions, \n",
    "    squared=False)\n",
    "test_rmse"
   ],
   "metadata": {
    "collapsed": false,
    "ExecuteTime": {
     "end_time": "2023-11-08T20:10:42.238319Z",
     "start_time": "2023-11-08T20:10:41.924194Z"
    }
   }
  },
  {
   "cell_type": "markdown",
   "source": [
    "With our test error so close to our training error, it suggests we have a model that is well suited to generalizing to new unseen data. Now let's calculate a 95% confidence interval for the generalization error and see the interval size."
   ],
   "metadata": {
    "collapsed": false
   }
  },
  {
   "cell_type": "code",
   "execution_count": 52,
   "outputs": [
    {
     "data": {
      "text/plain": "array([ 971.42974765, 1081.01608195])"
     },
     "execution_count": 52,
     "metadata": {},
     "output_type": "execute_result"
    }
   ],
   "source": [
    "from scipy import stats\n",
    "\n",
    "confidence = .95\n",
    "squared_errors = (electricity_production_data_test_predictions - electricity_production_data_test_labels) ** 2\n",
    "np.sqrt(stats.t.interval(confidence, len(squared_errors) - 1,\n",
    "                         loc=squared_errors.mean(),\n",
    "                         scale=stats.sem(squared_errors)))"
   ],
   "metadata": {
    "collapsed": false,
    "ExecuteTime": {
     "end_time": "2023-11-08T20:10:42.246035Z",
     "start_time": "2023-11-08T20:10:42.239622Z"
    }
   }
  },
  {
   "cell_type": "markdown",
   "source": [
    "### Save the final model\n",
    "\n",
    "We can then go on to export the model and deploy using some cloud deployment solution such as GCS or AWS SageMaker, etc."
   ],
   "metadata": {
    "collapsed": false
   }
  },
  {
   "cell_type": "code",
   "execution_count": null,
   "outputs": [],
   "source": [
    "import joblib\n",
    "\n",
    "# export the model\n",
    "joblib.dump(model, \"wind_power_production_model.pk1\")\n",
    "\n",
    "# reload the model\n",
    "reload_model = joblib.load(\"wind_power_production_model.pk1\")"
   ],
   "metadata": {
    "collapsed": false
   }
  }
 ],
 "metadata": {
  "kernelspec": {
   "display_name": "Python 3",
   "language": "python",
   "name": "python3"
  },
  "language_info": {
   "codemirror_mode": {
    "name": "ipython",
    "version": 2
   },
   "file_extension": ".py",
   "mimetype": "text/x-python",
   "name": "python",
   "nbconvert_exporter": "python",
   "pygments_lexer": "ipython2",
   "version": "2.7.6"
  }
 },
 "nbformat": 4,
 "nbformat_minor": 0
}
